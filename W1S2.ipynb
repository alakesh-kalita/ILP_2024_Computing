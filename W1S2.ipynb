{
 "cells": [
  {
   "cell_type": "code",
   "execution_count": 9,
   "id": "c61bfb93-f70e-46c6-8bc5-8f997af86451",
   "metadata": {},
   "outputs": [
    {
     "name": "stdout",
     "output_type": "stream",
     "text": [
      "I am inside the first if block\n"
     ]
    }
   ],
   "source": [
    "condition = True\n",
    "\n",
    "if (condition):\n",
    "    print(\"I am inside the first 'if' block\")\n",
    "\n",
    "\n",
    "condition = False\n",
    "if (condition):\n",
    "    print(\"I am inside the second 'if' block\")\n",
    "    "
   ]
  },
  {
   "cell_type": "code",
   "execution_count": 12,
   "id": "2f803936-ff43-4af8-915e-b4e83baf0420",
   "metadata": {},
   "outputs": [
    {
     "ename": "IndentationError",
     "evalue": "unindent does not match any outer indentation level (<string>, line 6)",
     "output_type": "error",
     "traceback": [
      "\u001b[0;36m  File \u001b[0;32m<string>:6\u001b[0;36m\u001b[0m\n\u001b[0;31m    print(\"I am not following indetation\")\u001b[0m\n\u001b[0m                                           ^\u001b[0m\n\u001b[0;31mIndentationError\u001b[0m\u001b[0;31m:\u001b[0m unindent does not match any outer indentation level\n"
     ]
    }
   ],
   "source": [
    "#Example on Python indentation\n",
    "condition = True\n",
    "\n",
    "if (condition):\n",
    "    print(\"I am inside the first 'if' block\")\n",
    "  print(\"I am not following indetation\") "
   ]
  },
  {
   "cell_type": "code",
   "execution_count": 13,
   "id": "72223315-f1b3-4b82-9911-42cd2486b709",
   "metadata": {},
   "outputs": [
    {
     "name": "stdout",
     "output_type": "stream",
     "text": [
      "I am inside the second 'if' block\n"
     ]
    }
   ],
   "source": [
    "condition = False\n",
    "if (not condition):\n",
    "    print(\"I am inside the second 'if' block\")"
   ]
  },
  {
   "cell_type": "code",
   "execution_count": 15,
   "id": "7f33d1dc-4be3-4bb0-9386-731603020809",
   "metadata": {},
   "outputs": [
    {
     "name": "stdin",
     "output_type": "stream",
     "text": [
      "Enter the first number:  23\n",
      "Enter the second number:  34\n",
      "Enter the third number:  45\n"
     ]
    },
    {
     "name": "stdout",
     "output_type": "stream",
     "text": [
      "The maximum number among 23 , 34 , and 45 is: 45\n"
     ]
    }
   ],
   "source": [
    "#Ask user to enter three numbers and find the maximum number among them.\n",
    "\n",
    "# Ask the user to enter three numbers\n",
    "num1 = int(input(\"Enter the first number: \"))\n",
    "num2 = int(input(\"Enter the second number: \"))\n",
    "num3 = int(input(\"Enter the third number: \"))\n",
    "\n",
    "# Assume the maximum number is num1 initially\n",
    "max_num = num1\n",
    "\n",
    "# Check if num2 is greater than max_num\n",
    "if num2 > max_num:\n",
    "    max_num = num2\n",
    "\n",
    "# Check if num3 is greater than max_num\n",
    "if num3 > max_num:\n",
    "    max_num = num3\n",
    "\n",
    "# Print the maximum number\n",
    "print(\"The maximum number among\", num1, \",\", num2, \", and\", num3, \"is:\", max_num)\n",
    "\n"
   ]
  },
  {
   "cell_type": "code",
   "execution_count": 18,
   "id": "3e2b6e3e-f435-4c7f-a71b-5844a9a653e4",
   "metadata": {},
   "outputs": [
    {
     "name": "stdout",
     "output_type": "stream",
     "text": [
      "X and Y are not equal\n",
      "X and Z are not equal\n"
     ]
    }
   ],
   "source": [
    "#if with comparison operator\n",
    "\n",
    "x = 10\n",
    "y = 5.0\n",
    "z = \"10\"\n",
    "\n",
    "\n",
    "if (x == y):\n",
    "    print(\"X and Y are equal\")\n",
    "\n",
    "if (x != y):  \n",
    "    print(\"X and Y are not equal\")\n",
    "\n",
    "if (x != z):\n",
    "    print(\"X and Z are not equal\")\n"
   ]
  },
  {
   "cell_type": "code",
   "execution_count": 19,
   "id": "54d4f381-2534-4ae6-908e-8feec595fa12",
   "metadata": {},
   "outputs": [
    {
     "name": "stdout",
     "output_type": "stream",
     "text": [
      "I am inside the 'else' block\n"
     ]
    }
   ],
   "source": [
    "#Else condiotional statement\n",
    "condition = 0\n",
    "\n",
    "if (condition):\n",
    "    print(\"I am inside the first 'if' block\")\n",
    "\n",
    "else:\n",
    "    print(\"I am inside the 'else' block\")"
   ]
  },
  {
   "cell_type": "code",
   "execution_count": 23,
   "id": "d363387b-beea-4dc6-b2aa-0b39254ab1ca",
   "metadata": {},
   "outputs": [
    {
     "name": "stdin",
     "output_type": "stream",
     "text": [
      "Enter your age:  17\n"
     ]
    },
    {
     "name": "stdout",
     "output_type": "stream",
     "text": [
      "You are a minor.\n"
     ]
    }
   ],
   "source": [
    "#elif statement\n",
    "\n",
    "# Ask the user to enter their age\n",
    "age = int(input(\"Enter your age: \"))\n",
    "\n",
    "# Check the age range and print a message accordingly\n",
    "if age < 18:\n",
    "    print(\"You are a minor.\")\n",
    "elif age >= 18 and age < 65:\n",
    "    print(\"You are an adult.\")\n",
    "else:\n",
    "    print(\"You are a senior citizen.\")\n"
   ]
  },
  {
   "cell_type": "code",
   "execution_count": 24,
   "id": "e222b615-e759-423e-aacb-94cd28238e50",
   "metadata": {},
   "outputs": [
    {
     "name": "stdout",
     "output_type": "stream",
     "text": [
      "x is greater than 5\n"
     ]
    }
   ],
   "source": [
    "# Test\n",
    "x = 10\n",
    "\n",
    "if x > 5:\n",
    "    print(\"x is greater than 5\")\n",
    "elif x == 5:\n",
    "    print(\"x is equal to 5\")\n",
    "else:\n",
    "    print(\"x is less than 5\")"
   ]
  },
  {
   "cell_type": "code",
   "execution_count": 26,
   "id": "1d58b85a-5a61-4951-ab5e-df20a37007aa",
   "metadata": {},
   "outputs": [
    {
     "name": "stdin",
     "output_type": "stream",
     "text": [
      "Enter the first number:  1\n",
      "Enter the second number:  1\n",
      "Enter the third number:  1\n"
     ]
    },
    {
     "name": "stdout",
     "output_type": "stream",
     "text": [
      "The maximum number among 1.0 , 1.0 , and 1.0 is: 1.0\n"
     ]
    }
   ],
   "source": [
    "# Ask the user to enter three numbers\n",
    "num1 = float(input(\"Enter the first number: \"))\n",
    "num2 = float(input(\"Enter the second number: \"))\n",
    "num3 = float(input(\"Enter the third number: \"))\n",
    "\n",
    "# Initialize max_num variable with the first number\n",
    "max_num = num1\n",
    "\n",
    "# Compare num2 with max_num\n",
    "if num2 > max_num:\n",
    "    max_num = num2\n",
    "\n",
    "# Compare num3 with max_num\n",
    "elif num3 > max_num:\n",
    "    max_num = num3\n",
    "\n",
    "# Print the maximum number\n",
    "print(\"The maximum number among\", num1, \",\", num2, \", and\", num3, \"is:\", max_num)\n"
   ]
  },
  {
   "cell_type": "code",
   "execution_count": 31,
   "id": "0cc5b099-ca5c-45f5-99aa-e7223e73149d",
   "metadata": {},
   "outputs": [
    {
     "name": "stdout",
     "output_type": "stream",
     "text": [
      "Printing from 'if' block\n"
     ]
    }
   ],
   "source": [
    "# Interesting question on Elif\n",
    "\n",
    "var1 = True\n",
    "var2 = True\n",
    "\n",
    "if var1:\n",
    "    print(\"Printing from 'if' block\")\n",
    "\n",
    "elif (var2):\n",
    "    print(\"Printing from 'elif' block\")\n",
    "\n",
    "else:\n",
    "    print(\"Printing from 'else' block\")"
   ]
  },
  {
   "cell_type": "code",
   "execution_count": 32,
   "id": "7fad4d51-5b9e-482a-85f7-5d402387e6b5",
   "metadata": {},
   "outputs": [
    {
     "name": "stdin",
     "output_type": "stream",
     "text": [
      "Enter your grade (out of 100):  85\n"
     ]
    },
    {
     "name": "stdout",
     "output_type": "stream",
     "text": [
      "Your grade is B.\n"
     ]
    }
   ],
   "source": [
    "'''\n",
    "Write a Python program to determine the letter grade for a student based on their percentage score. The program should prompt the user to input their percentage score, and then output their corresponding letter grade according to the following criteria:\n",
    "A: 90% or above\n",
    "B: 80% to 89%\n",
    "C: 70% to 79%\n",
    "D: 60% to 69%\n",
    "F: Below 60%\n",
    "Your program should use if, elif, and else statements\n",
    "'''\n",
    "# Ask the user to enter their grade\n",
    "grade = int(input(\"Enter your grade (out of 100): \"))\n",
    "\n",
    "# Determine the grade level\n",
    "if grade >= 90:\n",
    "    print(\"Your grade is A.\")\n",
    "elif grade >= 80:\n",
    "    print(\"Your grade is B.\")\n",
    "elif grade >= 70:\n",
    "    print(\"Your grade is C.\")\n",
    "elif grade >= 60:\n",
    "    print(\"Your grade is D.\")\n",
    "else:\n",
    "    print(\"Your grade is F. You need to improve.\")"
   ]
  },
  {
   "cell_type": "code",
   "execution_count": 34,
   "id": "75cf4848-75f2-445e-82b1-49198e7f71a9",
   "metadata": {},
   "outputs": [
    {
     "name": "stdin",
     "output_type": "stream",
     "text": [
      "Enter your grade:  12\n"
     ]
    },
    {
     "name": "stdout",
     "output_type": "stream",
     "text": [
      "Your letter grade is F.\n"
     ]
    }
   ],
   "source": [
    "# Using only if statement\n",
    "# Prompt the user to enter their grade\n",
    "grade = float(input(\"Enter your grade: \"))\n",
    "\n",
    "# Determine the letter grade based on the grade\n",
    "if grade >= 90:\n",
    "    letter_grade = \"A\"\n",
    "if grade >= 80 and grade < 90:\n",
    "    letter_grade = \"B\"\n",
    "if grade >= 70 and grade < 80:\n",
    "    letter_grade = \"C\"\n",
    "if grade >= 60 and grade < 70:\n",
    "    letter_grade = \"D\"\n",
    "if grade < 60:\n",
    "    letter_grade = \"F\"\n",
    "\n",
    "# Output the corresponding letter grade\n",
    "print(\"Your letter grade is\", letter_grade + \".\")\n"
   ]
  },
  {
   "cell_type": "code",
   "execution_count": 36,
   "id": "1292804b-eb7c-4e18-8879-50ae3b383d8a",
   "metadata": {},
   "outputs": [
    {
     "name": "stdin",
     "output_type": "stream",
     "text": [
      "Enter your age:  19\n"
     ]
    },
    {
     "name": "stdout",
     "output_type": "stream",
     "text": [
      "You are an adult.\n"
     ]
    }
   ],
   "source": [
    "# Prompt the user to enter their age\n",
    "age = int(input(\"Enter your age: \"))\n",
    "\n",
    "# Nested if/else statements to determine user's age group\n",
    "if age < 0:\n",
    "    print(\"Invalid age. Age cannot be negative.\")\n",
    "else:\n",
    "    if age < 18:\n",
    "        print(\"You are a minor.\")\n",
    "    elif age < 65:\n",
    "        print(\"You are an adult.\")\n",
    "    else:\n",
    "        print(\"You are a senior citizen.\")\n"
   ]
  },
  {
   "cell_type": "code",
   "execution_count": 37,
   "id": "ca480422-a130-4432-acb5-d13f839a282e",
   "metadata": {},
   "outputs": [
    {
     "name": "stdin",
     "output_type": "stream",
     "text": [
      "Enter a number:  15\n"
     ]
    },
    {
     "name": "stdout",
     "output_type": "stream",
     "text": [
      "The entered number is odd.\n",
      "The number is divisible by both 3 and 5.\n"
     ]
    }
   ],
   "source": [
    "'''\n",
    "Write a Python program to ask user to enter a number.\n",
    "If the number is positive, determine if the entered number is odd or even. \n",
    "If the number is odd, check whether it is divisible by either 5, 3, or both.\n",
    "'''\n",
    "\n",
    "# Prompt the user to enter a number\n",
    "num = int(input(\"Enter a number: \"))\n",
    "\n",
    "# Check if the entered number is positive\n",
    "if num > 0:\n",
    "    # Determine if the number is odd or even\n",
    "    if num % 2 != 0:\n",
    "        print(\"The entered number is odd.\")\n",
    "        \n",
    "        # Check if the number is divisible by 5, 3, or both\n",
    "        if num % 3 == 0 and num % 5 == 0:\n",
    "            print(\"The number is divisible by both 3 and 5.\")\n",
    "        elif num % 3 == 0:\n",
    "            print(\"The number is divisible by 3.\")\n",
    "        elif num % 5 == 0:\n",
    "            print(\"The number is divisible by 5.\")\n",
    "        else:\n",
    "            print(\"The number is not divisible by either 3 or 5.\")\n",
    "    else:\n",
    "        print(\"The entered number is even.\")\n",
    "else:\n",
    "    print(\"Error: Please enter a positive number.\")\n"
   ]
  },
  {
   "cell_type": "code",
   "execution_count": 38,
   "id": "592fdade-3fbe-4113-9d58-f8c2ef1952e7",
   "metadata": {},
   "outputs": [
    {
     "name": "stdin",
     "output_type": "stream",
     "text": [
      "Enter a number:  15\n"
     ]
    },
    {
     "name": "stdout",
     "output_type": "stream",
     "text": [
      "The entered number is odd.\n",
      "The number is divisible by 3.\n"
     ]
    }
   ],
   "source": [
    "# Prompt the user to enter a number\n",
    "num = int(input(\"Enter a number: \"))\n",
    "\n",
    "# Check if the entered number is positive\n",
    "if num > 0:\n",
    "    # Determine if the number is odd or even\n",
    "    if num % 2 != 0:\n",
    "        print(\"The entered number is odd.\")\n",
    "        \n",
    "        # Check if the number is divisible by 5, 3, or both\n",
    "        if num % 3 == 0:\n",
    "            print(\"The number is divisible by 3.\")\n",
    "        elif num % 3 == 0 and num % 5 == 0:\n",
    "            print(\"The number is divisible by both 3 and 5.\")\n",
    "        elif num % 5 == 0:\n",
    "            print(\"The number is divisible by 5.\")\n",
    "        else:\n",
    "            print(\"The number is not divisible by either 3 or 5.\")\n",
    "    else:\n",
    "        print(\"The entered number is even.\")\n",
    "else:\n",
    "    print(\"Error: Please enter a positive number.\")"
   ]
  },
  {
   "cell_type": "code",
   "execution_count": 3,
   "id": "5d2c4ea3-cbc3-41e5-8667-72b81c0e7c90",
   "metadata": {},
   "outputs": [
    {
     "name": "stdout",
     "output_type": "stream",
     "text": [
      "0\n",
      "1\n",
      "2\n",
      "3\n",
      "4\n"
     ]
    }
   ],
   "source": [
    "#Introduction to While loop\n",
    "'''\n",
    "Write a program that checks if x is less than 5 using only \n",
    "if statements and prints the number, starting from 0\n",
    "\n",
    "'''\n",
    "\n",
    "x = 0\n",
    "\n",
    "if x < 5:\n",
    "    print(x)\n",
    "x = x + 1   \n",
    "\n",
    "if x  < 5:\n",
    "    print(x)\n",
    "x += 1    \n",
    "\n",
    "if x  < 5:\n",
    "    print(x)\n",
    "x += 1\n",
    "\n",
    "if x  < 5:\n",
    "    print(x)\n",
    "x += 1    \n",
    "\n",
    "if x  < 5:\n",
    "    print(x)\n",
    "x += 1\n",
    "\n",
    "if x  < 5:\n",
    "    print(x)\n",
    "x += 1\n",
    "    "
   ]
  },
  {
   "cell_type": "code",
   "execution_count": 24,
   "id": "f3d9aaf8-f429-4f2c-a6a9-fbfe78e4c189",
   "metadata": {},
   "outputs": [
    {
     "name": "stdout",
     "output_type": "stream",
     "text": [
      "0\n",
      "1\n",
      "2\n",
      "3\n",
      "4\n",
      "Exiting from 'while' loop\n"
     ]
    }
   ],
   "source": [
    "#using while statement\n",
    "\n",
    "x = 0\n",
    "\n",
    "while (x<5 and x >= 0):\n",
    "    print(x)\n",
    "    x += 1\n",
    "\n",
    "print(\"Exiting from 'while' loop\")"
   ]
  },
  {
   "cell_type": "code",
   "execution_count": 7,
   "id": "b699aa55-c610-4fd2-88da-14df4422be07",
   "metadata": {},
   "outputs": [
    {
     "name": "stdin",
     "output_type": "stream",
     "text": [
      "Enter a number:  7\n"
     ]
    },
    {
     "name": "stdout",
     "output_type": "stream",
     "text": [
      "Multiplication Table of 7\n",
      "7 x 1 = 7\n",
      "7 x 2 = 14\n",
      "7 x 3 = 21\n",
      "7 x 4 = 28\n",
      "7 x 5 = 35\n",
      "7 x 6 = 42\n",
      "7 x 7 = 49\n",
      "7 x 8 = 56\n",
      "7 x 9 = 63\n",
      "7 x 10 = 70\n"
     ]
    }
   ],
   "source": [
    "#Write a program to print the multiplication table of 7 using while loop/statement\n",
    "\n",
    "\n",
    "num = int(input(\"Enter a number: \"))  # Ask the user for a number\n",
    "i = 1\n",
    "\n",
    "print(\"Multiplication Table of\", num)\n",
    "\n",
    "while i <= 10:\n",
    "    #print(num, \"x\", i, \"=\", num * i)\n",
    "    print (f\"{num} x {i} = {num * i}\")\n",
    "    i += 1\n",
    "\n"
   ]
  },
  {
   "cell_type": "code",
   "execution_count": 29,
   "id": "dab62667-08ad-4293-afd8-94c59a07bebe",
   "metadata": {},
   "outputs": [
    {
     "name": "stdout",
     "output_type": "stream",
     "text": [
      "Virus 1\n",
      "Virus 2\n",
      "Virus 3\n",
      "Virus 4\n",
      "Virus 5\n",
      "Virus 6\n",
      "Virus 7\n",
      "Virus 8\n",
      "Virus 9\n",
      "Virus 10\n",
      "Exited from the 'while' loop\n"
     ]
    }
   ],
   "source": [
    "#virus problem with break statment\n",
    "\n",
    "x = 1\n",
    "\n",
    "while (True):\n",
    "    print(\"Virus\", x)\n",
    "    x += 1\n",
    "    if x > 10:\n",
    "        break\n",
    "print(\"Exited from the 'while' loop\")"
   ]
  },
  {
   "cell_type": "code",
   "execution_count": 28,
   "id": "8b18c5cb-6536-470e-be80-50af9a919943",
   "metadata": {},
   "outputs": [
    {
     "name": "stdin",
     "output_type": "stream",
     "text": [
      "Enter a positive integer:  121\n"
     ]
    },
    {
     "name": "stdout",
     "output_type": "stream",
     "text": [
      "Factorial of 121 is 809429852527344373968162284544935082997082306309701607045776233628497660426640521713391773997910182738287074185078904956856663439318382745047716214841147650721760223072092160000000000000000000000000000\n"
     ]
    }
   ],
   "source": [
    "#Write a program that asks the user for a positive integer and calculates its factorial using a while loop.\n",
    "\n",
    "num = int(input(\"Enter a positive integer: \"))  # Ask the user for a positive integer\n",
    "factorial = 1\n",
    "i = 1\n",
    "\n",
    "# Check if the input is a positive integer\n",
    "if num < 0:\n",
    "    print(\"Factorial is not defined for negative numbers.\")\n",
    "elif num == 0:\n",
    "    print(\"Factorial of 0 is 1.\")\n",
    "else:\n",
    "    while i <= num:\n",
    "        factorial *= i\n",
    "        i += 1\n",
    "    print(\"Factorial of\", num, \"is\", factorial)\n"
   ]
  },
  {
   "cell_type": "code",
   "execution_count": 43,
   "id": "5c57da3f-4eab-40b7-9044-753a9fc786b1",
   "metadata": {},
   "outputs": [
    {
     "name": "stdout",
     "output_type": "stream",
     "text": [
      "Welcome to the Guessing Game!\n",
      "Try to guess the secret number between 1 and 5.\n"
     ]
    },
    {
     "name": "stdin",
     "output_type": "stream",
     "text": [
      "Enter your guess (or 'quit' to exit):  4\n"
     ]
    },
    {
     "name": "stdout",
     "output_type": "stream",
     "text": [
      "The secret number is 2\n"
     ]
    },
    {
     "name": "stdin",
     "output_type": "stream",
     "text": [
      "Enter your guess (or 'quit' to exit):  4\n"
     ]
    },
    {
     "name": "stdout",
     "output_type": "stream",
     "text": [
      "The secret number is 2\n"
     ]
    },
    {
     "name": "stdin",
     "output_type": "stream",
     "text": [
      "Enter your guess (or 'quit' to exit):  4\n"
     ]
    },
    {
     "name": "stdout",
     "output_type": "stream",
     "text": [
      "The secret number is 5\n"
     ]
    },
    {
     "name": "stdin",
     "output_type": "stream",
     "text": [
      "Enter your guess (or 'quit' to exit):  4\n"
     ]
    },
    {
     "name": "stdout",
     "output_type": "stream",
     "text": [
      "Congratulations! You guessed the correct number 4 in 4 attempts.\n"
     ]
    }
   ],
   "source": [
    "import random\n",
    "\n",
    "print(\"Welcome to the Guessing Game!\")\n",
    "print(\"Try to guess the secret number between 1 and 5.\")\n",
    "\n",
    "attempts = 0\n",
    "\n",
    "while True:\n",
    "        secret_number = random.randint(1, 5)\n",
    "        guess = input(\"Enter your guess (or 'quit' to exit): \")\n",
    "\n",
    "        # Check if the user wants to quit\n",
    "        if guess == 'quit':\n",
    "            print(\"Goodbye! Thanks for playing.\")\n",
    "            break\n",
    "\n",
    "        # Validate input\n",
    "        if not guess.isdigit():\n",
    "            print(\"Please enter a valid number.\")\n",
    "            continue\n",
    "\n",
    "        guess = int(guess)\n",
    "        attempts += 1\n",
    "\n",
    "        # Check if guess is correct\n",
    "        if guess == secret_number:\n",
    "            print(f\"Congratulations! You guessed the correct number {secret_number} in {attempts} attempts.\")\n",
    "            break\n",
    "        else:\n",
    "            print(\"The secret number is\",secret_number)\n",
    "\n"
   ]
  },
  {
   "cell_type": "code",
   "execution_count": 45,
   "id": "44f4bd89-fc5a-4fe7-b1db-3124d5c17b99",
   "metadata": {},
   "outputs": [
    {
     "name": "stdout",
     "output_type": "stream",
     "text": [
      "Virus 1\n",
      "Virus 2\n",
      "Virus 3\n",
      "Virus 4\n",
      "Virus 5\n",
      "Virus 6\n",
      "Virus 7\n",
      "Virus 8\n",
      "Virus 9\n",
      "Exited from the 'while' loop\n"
     ]
    }
   ],
   "source": [
    "#virus problem with break statment\n",
    "\n",
    "x = 1\n",
    "\n",
    "while x < 10:\n",
    "    print(\"Virus\", x)\n",
    "    x += 1\n",
    "print(\"Exited from the 'while' loop\")"
   ]
  },
  {
   "cell_type": "code",
   "execution_count": 48,
   "id": "06829b58-29ca-496b-b0df-abab29b0153a",
   "metadata": {},
   "outputs": [
    {
     "name": "stdout",
     "output_type": "stream",
     "text": [
      "Virus 0\n",
      "Virus 1\n",
      "Virus 2\n",
      "Virus 3\n",
      "Virus 4\n",
      "Exited from the 'for' loop\n"
     ]
    }
   ],
   "source": [
    "#Introduction to 'for' loop\n",
    "\n",
    "for i in range(0,5):\n",
    "    print(\"Virus\", i)\n",
    "\n",
    "print(\"Exited from the 'for' loop\" )\n",
    "    "
   ]
  },
  {
   "cell_type": "code",
   "execution_count": 50,
   "id": "e0f4f96a-9475-4a11-94e1-f4b490d46d1b",
   "metadata": {},
   "outputs": [
    {
     "name": "stdin",
     "output_type": "stream",
     "text": [
      "Enter a number:  6\n"
     ]
    },
    {
     "name": "stdout",
     "output_type": "stream",
     "text": [
      "Multiplication Table of 6\n",
      "6 x 1 = 6\n",
      "6 x 2 = 12\n",
      "6 x 3 = 18\n",
      "6 x 4 = 24\n",
      "6 x 5 = 30\n",
      "6 x 6 = 36\n",
      "6 x 7 = 42\n",
      "6 x 8 = 48\n",
      "6 x 9 = 54\n",
      "6 x 10 = 60\n"
     ]
    }
   ],
   "source": [
    "#Write a program to print the multiplication table of 7 using for loop/statement\n",
    "\n",
    "\n",
    "num = int(input(\"Enter a number: \"))  # Ask the user for a number\n",
    "i = 1\n",
    "\n",
    "print(\"Multiplication Table of\", num)\n",
    "\n",
    "for i in range (1,11):\n",
    "    #print(num, \"x\", i, \"=\", num * i)\n",
    "    print (f\"{num} x {i} = {num * i}\")\n",
    "    i += 1"
   ]
  },
  {
   "cell_type": "code",
   "execution_count": 52,
   "id": "cb11b035-3cb5-4aa0-a181-4be8bd6f5610",
   "metadata": {},
   "outputs": [
    {
     "name": "stdout",
     "output_type": "stream",
     "text": [
      "10\n",
      "9\n",
      "8\n",
      "7\n",
      "6\n",
      "5\n",
      "4\n",
      "3\n",
      "2\n",
      "1\n"
     ]
    }
   ],
   "source": [
    "for i in range(10,0,-1):\n",
    "    print(i)\n",
    "    "
   ]
  },
  {
   "cell_type": "code",
   "execution_count": 71,
   "id": "a61664f7-ced2-4059-96cb-fcfcee44f031",
   "metadata": {},
   "outputs": [
    {
     "name": "stdout",
     "output_type": "stream",
     "text": [
      "0\n"
     ]
    }
   ],
   "source": [
    "for i in range(1):\n",
    "    print(i)\n",
    "    "
   ]
  },
  {
   "cell_type": "code",
   "execution_count": 83,
   "id": "ea0b1953-314c-4074-96d1-df1406d0eb9e",
   "metadata": {},
   "outputs": [
    {
     "name": "stdout",
     "output_type": "stream",
     "text": [
      "Multiplication Table of 1\n",
      "1 * 1 = 1\n",
      "1 * 2 = 2\n",
      "1 * 3 = 3\n",
      "1 * 4 = 4\n",
      "1 * 5 = 5\n",
      "1 * 6 = 6\n",
      "1 * 7 = 7\n",
      "1 * 8 = 8\n",
      "1 * 9 = 9\n",
      "1 * 10 = 10\n",
      "\n",
      "Multiplication Table of 2\n",
      "2 * 1 = 2\n",
      "2 * 2 = 4\n",
      "2 * 3 = 6\n",
      "2 * 4 = 8\n",
      "2 * 5 = 10\n",
      "2 * 6 = 12\n",
      "2 * 7 = 14\n",
      "2 * 8 = 16\n",
      "2 * 9 = 18\n",
      "2 * 10 = 20\n",
      "\n",
      "Multiplication Table of 3\n",
      "3 * 1 = 3\n",
      "3 * 2 = 6\n",
      "3 * 3 = 9\n",
      "3 * 4 = 12\n",
      "3 * 5 = 15\n",
      "3 * 6 = 18\n",
      "3 * 7 = 21\n",
      "3 * 8 = 24\n",
      "3 * 9 = 27\n",
      "3 * 10 = 30\n",
      "\n",
      "Multiplication Table of 4\n",
      "4 * 1 = 4\n",
      "4 * 2 = 8\n",
      "4 * 3 = 12\n",
      "4 * 4 = 16\n",
      "4 * 5 = 20\n",
      "4 * 6 = 24\n",
      "4 * 7 = 28\n",
      "4 * 8 = 32\n",
      "4 * 9 = 36\n",
      "4 * 10 = 40\n",
      "\n",
      "Multiplication Table of 5\n",
      "5 * 1 = 5\n",
      "5 * 2 = 10\n",
      "5 * 3 = 15\n",
      "5 * 4 = 20\n",
      "5 * 5 = 25\n",
      "5 * 6 = 30\n",
      "5 * 7 = 35\n",
      "5 * 8 = 40\n",
      "5 * 9 = 45\n",
      "5 * 10 = 50\n",
      "\n",
      "Multiplication Table of 6\n",
      "6 * 1 = 6\n",
      "6 * 2 = 12\n",
      "6 * 3 = 18\n",
      "6 * 4 = 24\n",
      "6 * 5 = 30\n",
      "6 * 6 = 36\n",
      "6 * 7 = 42\n",
      "6 * 8 = 48\n",
      "6 * 9 = 54\n",
      "6 * 10 = 60\n",
      "\n",
      "Multiplication Table of 7\n",
      "7 * 1 = 7\n",
      "7 * 2 = 14\n",
      "7 * 3 = 21\n",
      "7 * 4 = 28\n",
      "7 * 5 = 35\n",
      "7 * 6 = 42\n",
      "7 * 7 = 49\n",
      "7 * 8 = 56\n",
      "7 * 9 = 63\n",
      "7 * 10 = 70\n",
      "\n",
      "Multiplication Table of 8\n",
      "8 * 1 = 8\n",
      "8 * 2 = 16\n",
      "8 * 3 = 24\n",
      "8 * 4 = 32\n",
      "8 * 5 = 40\n",
      "8 * 6 = 48\n",
      "8 * 7 = 56\n",
      "8 * 8 = 64\n",
      "8 * 9 = 72\n",
      "8 * 10 = 80\n",
      "\n",
      "Multiplication Table of 9\n",
      "9 * 1 = 9\n",
      "9 * 2 = 18\n",
      "9 * 3 = 27\n",
      "9 * 4 = 36\n",
      "9 * 5 = 45\n",
      "9 * 6 = 54\n",
      "9 * 7 = 63\n",
      "9 * 8 = 72\n",
      "9 * 9 = 81\n",
      "9 * 10 = 90\n",
      "\n",
      "Multiplication Table of 10\n",
      "10 * 1 = 10\n",
      "10 * 2 = 20\n",
      "10 * 3 = 30\n",
      "10 * 4 = 40\n",
      "10 * 5 = 50\n",
      "10 * 6 = 60\n",
      "10 * 7 = 70\n",
      "10 * 8 = 80\n",
      "10 * 9 = 90\n",
      "10 * 10 = 100\n",
      "\n"
     ]
    }
   ],
   "source": [
    "# Printing multiplication table using nested for loops\n",
    "for i in range(1, 11):  # Outer loop for rows\n",
    "    print(f\"Multiplication Table of {i}\")  # Move to the next line after each row\n",
    "    for j in range(1, 11):  # Inner loop for columns\n",
    "        product = i * j\n",
    "        print(f\"{i} * {j} = {product}\")  # Print multiplication expression and result\n",
    "    print()"
   ]
  },
  {
   "cell_type": "code",
   "execution_count": 62,
   "id": "f4bb5b2c-f031-470a-baa5-6d3c8821fee2",
   "metadata": {},
   "outputs": [
    {
     "name": "stdout",
     "output_type": "stream",
     "text": [
      "*\n",
      "**\n",
      "***\n",
      "****\n",
      "*****\n",
      "******\n",
      "*******\n",
      "********\n",
      "*********\n"
     ]
    }
   ],
   "source": [
    "for i in range (1,10):\n",
    "    x =\"*\"\n",
    "    for j in range(1,i):\n",
    "        x += \"*\"\n",
    "    print(x)    "
   ]
  },
  {
   "cell_type": "code",
   "execution_count": 64,
   "id": "96266ecc-63be-4c7f-9fe9-04ae2c3f78f4",
   "metadata": {},
   "outputs": [
    {
     "name": "stdout",
     "output_type": "stream",
     "text": [
      "* \n",
      "* * \n",
      "* * * \n",
      "* * * * \n",
      "* * * * * \n",
      "* * * * * * \n",
      "* * * * * * * \n",
      "* * * * * * * * \n",
      "* * * * * * * * * \n",
      "* * * * * * * * * * \n"
     ]
    }
   ],
   "source": [
    "# Printing a pattern using nested for loops\n",
    "for i in range(10):  # Outer loop for rows\n",
    "    for j in range(i + 1):  # Inner loop for columns\n",
    "        print(\"*\", end=\" \")  # Print a star\n",
    "    print()  # Move to the next line after each row\n"
   ]
  },
  {
   "cell_type": "code",
   "execution_count": 65,
   "id": "b5a8bbb3-e0a6-4f9e-a038-87be49c09f6a",
   "metadata": {},
   "outputs": [
    {
     "name": "stdout",
     "output_type": "stream",
     "text": [
      "* * * * * \n",
      "* * * * * \n",
      "* * * * * \n",
      "* * * * * \n",
      "* * * * * \n"
     ]
    }
   ],
   "source": [
    "# Drawing a square using nested for loops\n",
    "size = 5\n",
    "for i in range(size):  # Outer loop for rows\n",
    "    for j in range(size):  # Inner loop for columns\n",
    "        print(\"*\", end=\" \")  # Print a star\n",
    "    print()  # Move to the next line after each row"
   ]
  },
  {
   "cell_type": "code",
   "execution_count": 79,
   "id": "e02bb518-b5cb-40df-935d-9381f47e6bf4",
   "metadata": {},
   "outputs": [
    {
     "name": "stdout",
     "output_type": "stream",
     "text": [
      "        * \n",
      "      * * * \n",
      "    * * * * * \n",
      "  * * * * * * * \n",
      "* * * * * * * * * \n"
     ]
    }
   ],
   "source": [
    "# Printing a pattern using nested for loops\n",
    "n = 5\n",
    "for i in range(1, n + 1):  # Outer loop for rows\n",
    "    for j in range(n - i):  # Inner loop for spaces\n",
    "        print(\" \", end=\" \")  # Print space\n",
    "    for k in range(2 * i-1):  # Inner loop for stars\n",
    "        print(\"*\", end=\" \")  # Print a star\n",
    "    print()  # Move to the next line after each row\n"
   ]
  },
  {
   "cell_type": "code",
   "execution_count": 82,
   "id": "6cbb481a-7c32-412a-89ee-b1aaca0d97a7",
   "metadata": {},
   "outputs": [
    {
     "name": "stdout",
     "output_type": "stream",
     "text": [
      "Multiplication Table of 1\n",
      "1 * 1 = 1\n",
      "1 * 2 = 2\n",
      "1 * 3 = 3\n",
      "1 * 4 = 4\n",
      "1 * 5 = 5\n",
      "1 * 6 = 6\n",
      "1 * 7 = 7\n",
      "1 * 8 = 8\n",
      "1 * 9 = 9\n",
      "1 * 10 = 10\n",
      "\n",
      "Multiplication Table of 2\n",
      "2 * 1 = 2\n",
      "2 * 2 = 4\n",
      "2 * 3 = 6\n",
      "2 * 4 = 8\n",
      "2 * 5 = 10\n",
      "2 * 6 = 12\n",
      "2 * 7 = 14\n",
      "2 * 8 = 16\n",
      "2 * 9 = 18\n",
      "2 * 10 = 20\n",
      "\n",
      "Multiplication Table of 3\n",
      "3 * 1 = 3\n",
      "3 * 2 = 6\n",
      "3 * 3 = 9\n",
      "3 * 4 = 12\n",
      "3 * 5 = 15\n",
      "3 * 6 = 18\n",
      "3 * 7 = 21\n",
      "3 * 8 = 24\n",
      "3 * 9 = 27\n",
      "3 * 10 = 30\n",
      "\n",
      "Multiplication Table of 4\n",
      "4 * 1 = 4\n",
      "4 * 2 = 8\n",
      "4 * 3 = 12\n",
      "4 * 4 = 16\n",
      "4 * 5 = 20\n",
      "4 * 6 = 24\n",
      "4 * 7 = 28\n",
      "4 * 8 = 32\n",
      "4 * 9 = 36\n",
      "4 * 10 = 40\n",
      "\n",
      "Multiplication Table of 5\n",
      "5 * 1 = 5\n",
      "5 * 2 = 10\n",
      "5 * 3 = 15\n",
      "5 * 4 = 20\n",
      "5 * 5 = 25\n",
      "5 * 6 = 30\n",
      "5 * 7 = 35\n",
      "5 * 8 = 40\n",
      "5 * 9 = 45\n",
      "5 * 10 = 50\n",
      "\n",
      "Multiplication Table of 6\n",
      "6 * 1 = 6\n",
      "6 * 2 = 12\n",
      "6 * 3 = 18\n",
      "6 * 4 = 24\n",
      "6 * 5 = 30\n",
      "6 * 6 = 36\n",
      "6 * 7 = 42\n",
      "6 * 8 = 48\n",
      "6 * 9 = 54\n",
      "6 * 10 = 60\n",
      "\n",
      "Multiplication Table of 7\n",
      "7 * 1 = 7\n",
      "7 * 2 = 14\n",
      "7 * 3 = 21\n",
      "7 * 4 = 28\n",
      "7 * 5 = 35\n",
      "7 * 6 = 42\n",
      "7 * 7 = 49\n",
      "7 * 8 = 56\n",
      "7 * 9 = 63\n",
      "7 * 10 = 70\n",
      "\n",
      "Multiplication Table of 8\n",
      "8 * 1 = 8\n",
      "8 * 2 = 16\n",
      "8 * 3 = 24\n",
      "8 * 4 = 32\n",
      "8 * 5 = 40\n",
      "8 * 6 = 48\n",
      "8 * 7 = 56\n",
      "8 * 8 = 64\n",
      "8 * 9 = 72\n",
      "8 * 10 = 80\n",
      "\n",
      "Multiplication Table of 9\n",
      "9 * 1 = 9\n",
      "9 * 2 = 18\n",
      "9 * 3 = 27\n",
      "9 * 4 = 36\n",
      "9 * 5 = 45\n",
      "9 * 6 = 54\n",
      "9 * 7 = 63\n",
      "9 * 8 = 72\n",
      "9 * 9 = 81\n",
      "9 * 10 = 90\n",
      "\n",
      "Multiplication Table of 10\n",
      "10 * 1 = 10\n",
      "10 * 2 = 20\n",
      "10 * 3 = 30\n",
      "10 * 4 = 40\n",
      "10 * 5 = 50\n",
      "10 * 6 = 60\n",
      "10 * 7 = 70\n",
      "10 * 8 = 80\n",
      "10 * 9 = 90\n",
      "10 * 10 = 100\n",
      "\n"
     ]
    }
   ],
   "source": []
  },
  {
   "cell_type": "code",
   "execution_count": 86,
   "id": "469e6899-f2cd-491f-84af-a3b3058fb7e5",
   "metadata": {},
   "outputs": [
    {
     "name": "stdout",
     "output_type": "stream",
     "text": [
      "1\n",
      "2\n",
      "3\n",
      "4\n",
      "5\n",
      "Skipping number 6\n",
      "7\n",
      "8\n",
      "9\n",
      "10\n",
      "Exited from the 'for' loop\n"
     ]
    }
   ],
   "source": [
    "# Using a for loop with a break statement\n",
    "for i in range(1, 11):\n",
    "    if i == 6:  # Check if the current value of i is 6\n",
    "        print(\"Skipping number 6\")\n",
    "        continue  # If i is 6, exit the loop immediately\n",
    "    print(i)  # Print the current value of i\n",
    "\n",
    "print(\"Exited from the 'for' loop\")"
   ]
  },
  {
   "cell_type": "code",
   "execution_count": 7,
   "id": "10fa0b91-f01d-4102-8846-fe15b0cd9155",
   "metadata": {},
   "outputs": [
    {
     "name": "stdin",
     "output_type": "stream",
     "text": [
      "Enter a number 23\n"
     ]
    },
    {
     "name": "stdout",
     "output_type": "stream",
     "text": [
      "23 is a prime number.\n"
     ]
    }
   ],
   "source": [
    "# Checking if a number is prime\n",
    "num = int(input(\"Enter a number\"))\n",
    "\n",
    "for i in range(2, num):\n",
    "    if num % i == 0:\n",
    "        print(f\"{num} is not a prime number.\")\n",
    "        break\n",
    "else:\n",
    "    print(f\"{num} is a prime number.\")"
   ]
  },
  {
   "cell_type": "code",
   "execution_count": 92,
   "id": "87b13b1a-eb42-48a1-b3b8-12dd411998b5",
   "metadata": {},
   "outputs": [
    {
     "name": "stdout",
     "output_type": "stream",
     "text": [
      "Welcome to the Guessing Game!\n",
      "Try to guess the secret number between 1 and 10.\n"
     ]
    },
    {
     "name": "stdin",
     "output_type": "stream",
     "text": [
      "\n",
      "Attempt 1/5: Enter your guess:  1\n"
     ]
    },
    {
     "name": "stdout",
     "output_type": "stream",
     "text": [
      "Try again! Secret number was 2\n"
     ]
    },
    {
     "name": "stdin",
     "output_type": "stream",
     "text": [
      "\n",
      "Attempt 2/5: Enter your guess:  1\n"
     ]
    },
    {
     "name": "stdout",
     "output_type": "stream",
     "text": [
      "Try again! Secret number was 2\n"
     ]
    },
    {
     "name": "stdin",
     "output_type": "stream",
     "text": [
      "\n",
      "Attempt 3/5: Enter your guess:  1\n"
     ]
    },
    {
     "name": "stdout",
     "output_type": "stream",
     "text": [
      "Try again! Secret number was 6\n"
     ]
    },
    {
     "name": "stdin",
     "output_type": "stream",
     "text": [
      "\n",
      "Attempt 4/5: Enter your guess:  1\n"
     ]
    },
    {
     "name": "stdout",
     "output_type": "stream",
     "text": [
      "Try again! Secret number was 9\n"
     ]
    },
    {
     "name": "stdin",
     "output_type": "stream",
     "text": [
      "\n",
      "Attempt 5/5: Enter your guess:  1\n"
     ]
    },
    {
     "name": "stdout",
     "output_type": "stream",
     "text": [
      "Try again! Secret number was 3\n",
      "\n",
      "Sorry, you've exhausted all attempts. The correct number was 3.\n"
     ]
    }
   ],
   "source": [
    "import random\n",
    "\n",
    "\n",
    "\n",
    "# Maximum number of attempts allowed\n",
    "max_attempts = 5\n",
    "\n",
    "print(\"Welcome to the Guessing Game!\")\n",
    "print(\"Try to guess the secret number between 1 and 10.\")\n",
    "\n",
    "# Loop to handle multiple attempts\n",
    "for attempt in range(1, max_attempts + 1):\n",
    "    # Generate a random secret number between 1 and 100\n",
    "    secret_number = random.randint(1, 10)\n",
    "    guess = int(input(f\"\\nAttempt {attempt}/{max_attempts}: Enter your guess: \"))\n",
    "\n",
    "    # Check if the guess is correct\n",
    "    if guess == secret_number:\n",
    "        print(\"Congratulations! You guessed the correct number.\")\n",
    "        break\n",
    "    else:\n",
    "        print(\"Try again! Secret number was\", secret_number)\n",
    "\n",
    "else:\n",
    "    print(f\"\\nSorry, you've exhausted all attempts. The correct number was {secret_number}.\")\n"
   ]
  },
  {
   "cell_type": "code",
   "execution_count": 2,
   "id": "148a4181-cfea-489d-8114-57cdfdd5429d",
   "metadata": {},
   "outputs": [
    {
     "name": "stdout",
     "output_type": "stream",
     "text": [
      "7\n",
      "8\n",
      "9\n",
      "10\n",
      "11\n",
      "12\n",
      "13\n"
     ]
    }
   ],
   "source": [
    "\n",
    "max = 7\n",
    "\n",
    "for i in range(max):\n",
    "    print(max)\n",
    "    max = max+1\n"
   ]
  },
  {
   "cell_type": "code",
   "execution_count": 4,
   "id": "1d99be0a-f6cf-47bd-ae77-dcf87419ccc6",
   "metadata": {},
   "outputs": [
    {
     "name": "stdout",
     "output_type": "stream",
     "text": [
      "Hello world\n"
     ]
    }
   ],
   "source": [
    "print(\"Hello\", end = \" \")\n",
    "print(\"world\")"
   ]
  },
  {
   "cell_type": "code",
   "execution_count": null,
   "id": "bca8034e-3cd8-44a4-bca3-0d4d62892deb",
   "metadata": {},
   "outputs": [],
   "source": []
  }
 ],
 "metadata": {
  "kernelspec": {
   "display_name": "Python 3 (ipykernel)",
   "language": "python",
   "name": "python3"
  },
  "language_info": {
   "codemirror_mode": {
    "name": "ipython",
    "version": 3
   },
   "file_extension": ".py",
   "mimetype": "text/x-python",
   "name": "python",
   "nbconvert_exporter": "python",
   "pygments_lexer": "ipython3",
   "version": "3.12.2"
  }
 },
 "nbformat": 4,
 "nbformat_minor": 5
}
