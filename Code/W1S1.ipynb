{
 "cells": [
  {
   "cell_type": "code",
   "execution_count": 7,
   "id": "e1136ed5-a5b9-41b3-b738-396db4b9155e",
   "metadata": {},
   "outputs": [
    {
     "name": "stdout",
     "output_type": "stream",
     "text": [
      "Hello World\n"
     ]
    }
   ],
   "source": [
    "print(\"Hello World\")"
   ]
  },
  {
   "cell_type": "code",
   "execution_count": 24,
   "id": "5d0c52c7-f1d3-4b65-a715-f97fde44ebb6",
   "metadata": {},
   "outputs": [
    {
     "name": "stdout",
     "output_type": "stream",
     "text": [
      "10\n"
     ]
    }
   ],
   "source": [
    "print(5+5)"
   ]
  },
  {
   "cell_type": "code",
   "execution_count": 25,
   "id": "3a28a294-aab4-4407-9e24-0b6f46e810bc",
   "metadata": {},
   "outputs": [
    {
     "name": "stdout",
     "output_type": "stream",
     "text": [
      "5+5\n"
     ]
    }
   ],
   "source": [
    "print(\"5+5\")"
   ]
  },
  {
   "cell_type": "code",
   "execution_count": 28,
   "id": "9fb3d173-f1e3-45fe-9086-699111f9b607",
   "metadata": {},
   "outputs": [
    {
     "name": "stdout",
     "output_type": "stream",
     "text": [
      "Hello World: 5\n"
     ]
    }
   ],
   "source": [
    "print(\"Hello World: \" + \"5\")"
   ]
  },
  {
   "cell_type": "code",
   "execution_count": 29,
   "id": "66ff6572-63c6-4480-82d0-5ce367300434",
   "metadata": {},
   "outputs": [
    {
     "ename": "TypeError",
     "evalue": "can only concatenate str (not \"int\") to str",
     "output_type": "error",
     "traceback": [
      "\u001b[0;31m---------------------------------------------------------------------------\u001b[0m",
      "\u001b[0;31mTypeError\u001b[0m                                 Traceback (most recent call last)",
      "Cell \u001b[0;32mIn[29], line 1\u001b[0m\n\u001b[0;32m----> 1\u001b[0m \u001b[38;5;28mprint\u001b[39m(\u001b[38;5;124;43m\"\u001b[39;49m\u001b[38;5;124;43mHello World: \u001b[39;49m\u001b[38;5;124;43m\"\u001b[39;49m\u001b[43m \u001b[49m\u001b[38;5;241;43m+\u001b[39;49m\u001b[43m \u001b[49m\u001b[38;5;241;43m5\u001b[39;49m)\n",
      "\u001b[0;31mTypeError\u001b[0m: can only concatenate str (not \"int\") to str"
     ]
    }
   ],
   "source": [
    "print(\"Hello World: \" + 5)"
   ]
  },
  {
   "cell_type": "code",
   "execution_count": 30,
   "id": "791d14fb-698c-4fe6-bf87-c121c4850334",
   "metadata": {},
   "outputs": [],
   "source": [
    "x = 5"
   ]
  },
  {
   "cell_type": "code",
   "execution_count": 31,
   "id": "cc233059-0571-4e53-aea0-96beefee2da2",
   "metadata": {},
   "outputs": [
    {
     "name": "stdout",
     "output_type": "stream",
     "text": [
      "5\n"
     ]
    }
   ],
   "source": [
    "print(x)"
   ]
  },
  {
   "cell_type": "code",
   "execution_count": 37,
   "id": "0915cd06-26c7-40a7-9dc1-ee10dd42c4d8",
   "metadata": {},
   "outputs": [
    {
     "data": {
      "text/plain": [
       "int"
      ]
     },
     "execution_count": 37,
     "metadata": {},
     "output_type": "execute_result"
    }
   ],
   "source": [
    "type(x)"
   ]
  },
  {
   "cell_type": "code",
   "execution_count": 42,
   "id": "1032f289-afed-4d63-8b22-9f0c24ba4c45",
   "metadata": {},
   "outputs": [
    {
     "name": "stdout",
     "output_type": "stream",
     "text": [
      "<class 'int'>\n",
      "<class 'float'>\n",
      "<class 'str'>\n"
     ]
    }
   ],
   "source": [
    "x = 99\n",
    "y = 0.5\n",
    "string1 = \"Hello World\"\n",
    "print(type(x))\n",
    "print(type(y))\n",
    "print(type(string1))"
   ]
  },
  {
   "cell_type": "code",
   "execution_count": 45,
   "id": "55b30cae-307e-4a23-bc1d-69fda2b9c07d",
   "metadata": {},
   "outputs": [],
   "source": [
    "x = 5\n",
    "y = 2.0"
   ]
  },
  {
   "cell_type": "code",
   "execution_count": 46,
   "id": "4d23af13-1cba-42a2-b19e-80195fb96c70",
   "metadata": {},
   "outputs": [
    {
     "name": "stdout",
     "output_type": "stream",
     "text": [
      "7.0\n"
     ]
    }
   ],
   "source": [
    "print (x+y)"
   ]
  },
  {
   "cell_type": "code",
   "execution_count": 53,
   "id": "fbaff498-dac1-4031-a4cc-7e70b9dcf773",
   "metadata": {},
   "outputs": [
    {
     "name": "stdout",
     "output_type": "stream",
     "text": [
      "3.0\n"
     ]
    }
   ],
   "source": [
    "print (x-y)"
   ]
  },
  {
   "cell_type": "code",
   "execution_count": 54,
   "id": "ba82f6be-f874-48da-a86b-27f7033c52d7",
   "metadata": {},
   "outputs": [
    {
     "name": "stdout",
     "output_type": "stream",
     "text": [
      "10.0\n"
     ]
    }
   ],
   "source": [
    "print (x*y)"
   ]
  },
  {
   "cell_type": "code",
   "execution_count": 49,
   "id": "e0698e49-b195-4220-a115-2824cd76e251",
   "metadata": {},
   "outputs": [
    {
     "name": "stdout",
     "output_type": "stream",
     "text": [
      "2.5\n"
     ]
    }
   ],
   "source": [
    "print(x/y)"
   ]
  },
  {
   "cell_type": "code",
   "execution_count": 50,
   "id": "7519ebaf-7453-4166-8320-978cfc69431b",
   "metadata": {},
   "outputs": [
    {
     "name": "stdout",
     "output_type": "stream",
     "text": [
      "2.0\n"
     ]
    }
   ],
   "source": [
    "print(x//y)"
   ]
  },
  {
   "cell_type": "code",
   "execution_count": 51,
   "id": "af9700e8-da8c-4ca0-8307-e972f4bfc7a5",
   "metadata": {},
   "outputs": [
    {
     "name": "stdout",
     "output_type": "stream",
     "text": [
      "1.0\n"
     ]
    }
   ],
   "source": [
    "print(x%y)"
   ]
  },
  {
   "cell_type": "code",
   "execution_count": 52,
   "id": "293619be-8028-47bf-a87b-0b4544af5f69",
   "metadata": {},
   "outputs": [
    {
     "name": "stdout",
     "output_type": "stream",
     "text": [
      "25.0\n"
     ]
    }
   ],
   "source": [
    "print(x**y)"
   ]
  },
  {
   "cell_type": "code",
   "execution_count": 59,
   "id": "570a610d-adc7-442a-a91e-82583fec182e",
   "metadata": {},
   "outputs": [
    {
     "name": "stdout",
     "output_type": "stream",
     "text": [
      "True\n",
      "False\n",
      "False\n",
      "False\n",
      "True\n",
      "True\n"
     ]
    }
   ],
   "source": [
    "x = 10\n",
    "y = 10.0\n",
    "\n",
    "# Equal to\n",
    "print(x == y)  # Output: False\n",
    "\n",
    "# Not equal to\n",
    "print(x != y)  # Output: True\n",
    "\n",
    "# Greater than\n",
    "print(x > y)   # Output: True\n",
    "\n",
    "# Less than\n",
    "print(x < y)   # Output: False\n",
    "\n",
    "# Greater than or equal to\n",
    "print(x >= y)  # Output: True\n",
    "\n",
    "# Less than or equal to\n",
    "print(x <= y)  # Output: False\n"
   ]
  },
  {
   "cell_type": "code",
   "execution_count": 54,
   "id": "aecf72b6-c497-4946-b04c-ad97bf3b25f4",
   "metadata": {},
   "outputs": [
    {
     "name": "stdout",
     "output_type": "stream",
     "text": [
      "False\n",
      "True\n",
      "False\n"
     ]
    }
   ],
   "source": [
    "# Logical Operator\n",
    "# Define variables\n",
    "A = True\n",
    "B = False\n",
    "\n",
    "# Logical AND operation\n",
    "result_and = A and B\n",
    "print(result_and)  # Output: False\n",
    "\n",
    "# Logical OR operation\n",
    "result_or = A or B\n",
    "print(result_or)    # Output: True\n",
    "\n",
    "# Logical NOT operation\n",
    "result_not = not A\n",
    "print(result_not)"
   ]
  },
  {
   "cell_type": "code",
   "execution_count": 66,
   "id": "8065250a-6d12-41da-af64-10240a2f73d9",
   "metadata": {},
   "outputs": [
    {
     "name": "stdout",
     "output_type": "stream",
     "text": [
      "Can Tom fly? True\n",
      "Will I get wet? True\n",
      "Are some apples red? True\n",
      "Did Jane pass the exam? True\n",
      "Can I sleep in late? False\n"
     ]
    }
   ],
   "source": [
    "# Solution to Question 1\n",
    "all_cats_can_fly = True\n",
    "tom_is_a_cat = True\n",
    "can_tom_fly = all_cats_can_fly and tom_is_a_cat\n",
    "print(\"Can Tom fly?\", can_tom_fly)\n",
    "\n",
    "# Solution to Question 2\n",
    "is_raining_outside = True\n",
    "have_umbrella = False\n",
    "will_get_wet = is_raining_outside and not have_umbrella\n",
    "print(\"Will I get wet?\", will_get_wet)\n",
    "\n",
    "# Solution to Question 3\n",
    "all_apples_are_fruits = True\n",
    "some_fruits_are_red = True\n",
    "some_apples_are_red = all_apples_are_fruits and some_fruits_are_red\n",
    "print(\"Are some apples red?\", some_apples_are_red)\n",
    "\n",
    "# Solution to Question 4\n",
    "all_students_passed_exam = True\n",
    "jane_is_a_student = True\n",
    "did_jane_pass_exam = all_students_passed_exam and jane_is_a_student\n",
    "print(\"Did Jane pass the exam?\", did_jane_pass_exam)\n",
    "\n",
    "# Solution to Question 5\n",
    "not_monday = False\n",
    "dont_have_to_go_to_work = True\n",
    "can_sleep_in_late = not_monday and dont_have_to_go_to_work\n",
    "print(\"Can I sleep in late?\", can_sleep_in_late)\n"
   ]
  },
  {
   "cell_type": "code",
   "execution_count": 52,
   "id": "e4d69d60-ad84-410a-923a-4fd7bcb9a98e",
   "metadata": {},
   "outputs": [
    {
     "name": "stdout",
     "output_type": "stream",
     "text": [
      "1\n",
      "11\n",
      "20\n",
      "48\n",
      "Result of comparison operation: True\n",
      "Result of logical operation: True\n"
     ]
    }
   ],
   "source": [
    "#Operator predence examples\n",
    "\n",
    "a = 3\n",
    "b = 2\n",
    "c = 4\n",
    "\n",
    "# Arithmetic operations are evaluated first, then assignment\n",
    "result_arithmetic = a + b - c   # Left to Right\n",
    "print(result_arithmetic)  \n",
    "\n",
    "result_arithmetic = a + b * c  # Multiplication (*) has higher precedence than addition (+)\n",
    "print(result_arithmetic)  \n",
    "\n",
    "result_arithmetic = (a + b) * c  # parentheses can be used to “force” precedence.\n",
    "print(result_arithmetic) \n",
    "\n",
    "result_arithmetic = a*b**c  \n",
    "print(result_arithmetic) \n",
    "\n",
    "# Comparison operators\n",
    "result_comparison = a + b < c * 2  # Arithmetic operations are evaluated first, then the comparison\n",
    "print(\"Result of comparison operation:\", result_comparison)  # Output: True\n",
    "\n",
    "# Logical operators\n",
    "result_logical = (a > b) and (c < b or a == 3)  # Comparison operations are evaluated first, then logical operations\n",
    "print(\"Result of logical operation:\", result_logical)  # Output: True"
   ]
  },
  {
   "cell_type": "code",
   "execution_count": null,
   "id": "abeaec18-17fb-4285-ac5b-be165b73890c",
   "metadata": {},
   "outputs": [],
   "source": []
  },
  {
   "cell_type": "code",
   "execution_count": 55,
   "id": "933d5695-d296-41b4-ba61-fbe0a543d00d",
   "metadata": {},
   "outputs": [
    {
     "name": "stdout",
     "output_type": "stream",
     "text": [
      "15\n",
      "Hello world\n"
     ]
    }
   ],
   "source": [
    "# Operator overloading for addition with integers\n",
    "num1 = 5\n",
    "num2 = 10\n",
    "result_int = num1 + num2\n",
    "print(result_int)  # Output: Result with integers: 15\n",
    "\n",
    "# Operator overloading for addition with strings\n",
    "str1 = \"Hello \"\n",
    "str2 = \"world\"\n",
    "result_str = str1 + str2\n",
    "print(result_str)  # Output: Result with strings: Hello world\n"
   ]
  },
  {
   "cell_type": "code",
   "execution_count": 60,
   "id": "4861ded9-2645-431c-91ba-486f95e96ee5",
   "metadata": {},
   "outputs": [
    {
     "name": "stdout",
     "output_type": "stream",
     "text": [
      "False\n"
     ]
    }
   ],
   "source": [
    "print (x is y)"
   ]
  },
  {
   "cell_type": "code",
   "execution_count": 61,
   "id": "8edd0f9d-3914-4e60-ab5a-02844934aa40",
   "metadata": {},
   "outputs": [],
   "source": [
    "#That was my first program"
   ]
  },
  {
   "cell_type": "code",
   "execution_count": 62,
   "id": "1c192d8f-7313-4fe6-9e0b-124b732c931a",
   "metadata": {},
   "outputs": [
    {
     "ename": "SyntaxError",
     "evalue": "invalid syntax (3539262357.py, line 1)",
     "output_type": "error",
     "traceback": [
      "\u001b[0;36m  Cell \u001b[0;32mIn[62], line 1\u001b[0;36m\u001b[0m\n\u001b[0;31m    That was my first program\u001b[0m\n\u001b[0m         ^\u001b[0m\n\u001b[0;31mSyntaxError\u001b[0m\u001b[0;31m:\u001b[0m invalid syntax\n"
     ]
    }
   ],
   "source": [
    "That was my first program"
   ]
  },
  {
   "cell_type": "code",
   "execution_count": 1,
   "id": "8e3cd933-1989-4a1a-a228-348c59f262be",
   "metadata": {},
   "outputs": [
    {
     "name": "stdout",
     "output_type": "stream",
     "text": [
      "10\n"
     ]
    }
   ],
   "source": [
    "x9 = 10\n",
    "print (x9)"
   ]
  },
  {
   "cell_type": "code",
   "execution_count": 2,
   "id": "22d5080d-1a01-412b-a013-ac5079e47a6d",
   "metadata": {},
   "outputs": [
    {
     "ename": "SyntaxError",
     "evalue": "invalid decimal literal (3343045868.py, line 1)",
     "output_type": "error",
     "traceback": [
      "\u001b[0;36m  Cell \u001b[0;32mIn[2], line 1\u001b[0;36m\u001b[0m\n\u001b[0;31m    9x = 10\u001b[0m\n\u001b[0m    ^\u001b[0m\n\u001b[0;31mSyntaxError\u001b[0m\u001b[0;31m:\u001b[0m invalid decimal literal\n"
     ]
    }
   ],
   "source": [
    "9x = 10\n",
    "print (9x)"
   ]
  },
  {
   "cell_type": "code",
   "execution_count": 3,
   "id": "636a9db7-9269-4998-8021-1786bf0cf13f",
   "metadata": {},
   "outputs": [
    {
     "ename": "SyntaxError",
     "evalue": "invalid syntax (520094147.py, line 1)",
     "output_type": "error",
     "traceback": [
      "\u001b[0;36m  Cell \u001b[0;32mIn[3], line 1\u001b[0;36m\u001b[0m\n\u001b[0;31m    import = 5\u001b[0m\n\u001b[0m           ^\u001b[0m\n\u001b[0;31mSyntaxError\u001b[0m\u001b[0;31m:\u001b[0m invalid syntax\n"
     ]
    }
   ],
   "source": [
    "import = 5\n",
    "print (import)"
   ]
  },
  {
   "cell_type": "code",
   "execution_count": 24,
   "id": "65775d58-ac74-465c-8f82-3c3392ca4228",
   "metadata": {},
   "outputs": [
    {
     "name": "stdout",
     "output_type": "stream",
     "text": [
      "['False', 'None', 'True', 'and', 'as', 'assert', 'async', 'await', 'break', 'class', 'continue', 'def', 'del', 'elif', 'else', 'except', 'finally', 'for', 'from', 'global', 'if', 'import', 'in', 'is', 'lambda', 'nonlocal', 'not', 'or', 'pass', 'raise', 'return', 'try', 'while', 'with', 'yield']\n"
     ]
    }
   ],
   "source": [
    "import keyword\n",
    "\n",
    "print(keyword.kwlist)"
   ]
  },
  {
   "cell_type": "code",
   "execution_count": 5,
   "id": "253d42a3-3509-40e3-9a3c-fc3f0a712cd1",
   "metadata": {},
   "outputs": [
    {
     "name": "stdout",
     "output_type": "stream",
     "text": [
      "99\n",
      "99\n",
      "99\n",
      "101\n",
      "201\n"
     ]
    }
   ],
   "source": [
    "#Successive multiple equal signs\n",
    "var1 = var2 = var3 = 99\n",
    "\n",
    "#By having several variables names and values separated by commas on both sides:\n",
    "var4, var5 = 101, 201\n",
    "\n",
    "print(var1)\n",
    "print(var2)\n",
    "print(var3)\n",
    "print(var4)\n",
    "print(var5)"
   ]
  },
  {
   "cell_type": "code",
   "execution_count": 20,
   "id": "a80721e1-405f-43d6-a408-6cb76ccbb152",
   "metadata": {},
   "outputs": [
    {
     "name": "stdout",
     "output_type": "stream",
     "text": [
      "<class 'int'>\n",
      "<class 'str'>\n",
      "5\n",
      "5\n",
      "<class 'str'>\n",
      "<class 'int'>\n"
     ]
    }
   ],
   "source": [
    "# Type Conversion 1\n",
    "number_as_int = 5\n",
    "same_number_as_string = str(number_as_int)\n",
    "print(type(number_as_int))\n",
    "print(type(same_number_as_string))\n",
    "\n",
    "#print(\"Printing the values of the variables\")\n",
    "\n",
    "print(number_as_int)\n",
    "print(same_number_as_string)\n",
    "\n",
    "\n",
    "#print(\"Going to the next type conversion examples\")\n",
    "#print(\"\\n\")\n",
    "\n",
    "number_as_string = \"5\"\n",
    "change_to_int = int(number_as_string)\n",
    "print (type(number_as_string))\n",
    "print (type(change_to_int))"
   ]
  },
  {
   "cell_type": "code",
   "execution_count": 22,
   "id": "bb7448e7-257c-4306-8249-e562571deea9",
   "metadata": {},
   "outputs": [
    {
     "name": "stdout",
     "output_type": "stream",
     "text": [
      "<class 'str'>\n",
      "<class 'int'>\n",
      "Hello World !!!\n"
     ]
    },
    {
     "ename": "ValueError",
     "evalue": "invalid literal for int() with base 10: '5.0'",
     "output_type": "error",
     "traceback": [
      "\u001b[0;31m---------------------------------------------------------------------------\u001b[0m",
      "\u001b[0;31mValueError\u001b[0m                                Traceback (most recent call last)",
      "Cell \u001b[0;32mIn[22], line 8\u001b[0m\n\u001b[1;32m      4\u001b[0m \u001b[38;5;28mprint\u001b[39m (\u001b[38;5;28mtype\u001b[39m(change_to_int))\n\u001b[1;32m      6\u001b[0m \u001b[38;5;28mprint\u001b[39m(\u001b[38;5;124m\"\u001b[39m\u001b[38;5;124mHello World !!!\u001b[39m\u001b[38;5;124m\"\u001b[39m)\n\u001b[0;32m----> 8\u001b[0m change_to_int \u001b[38;5;241m=\u001b[39m \u001b[38;5;28;43mint\u001b[39;49m\u001b[43m(\u001b[49m\u001b[43mnumber_as_string\u001b[49m\u001b[43m)\u001b[49m\n\u001b[1;32m      9\u001b[0m \u001b[38;5;28mprint\u001b[39m (\u001b[38;5;28mtype\u001b[39m(number_as_string))\n\u001b[1;32m     10\u001b[0m \u001b[38;5;28mprint\u001b[39m (\u001b[38;5;28mtype\u001b[39m(change_to_int))\n",
      "\u001b[0;31mValueError\u001b[0m: invalid literal for int() with base 10: '5.0'"
     ]
    }
   ],
   "source": [
    "number_as_string = \"5.0\"\n",
    "change_to_float = float(number_as_string)\n",
    "print (type(number_as_string))\n",
    "print (type(change_to_int))\n",
    "\n",
    "print(\"Hello World !!!\")\n",
    "\n",
    "change_to_int = int(number_as_string)\n",
    "print (type(number_as_string))\n",
    "print (type(change_to_int))\n",
    "\n"
   ]
  },
  {
   "cell_type": "code",
   "execution_count": 23,
   "id": "68f47267-d59e-4c8c-b870-f6e2cd524d7f",
   "metadata": {},
   "outputs": [
    {
     "ename": "ValueError",
     "evalue": "could not convert string to float: '5.x'",
     "output_type": "error",
     "traceback": [
      "\u001b[0;31m---------------------------------------------------------------------------\u001b[0m",
      "\u001b[0;31mValueError\u001b[0m                                Traceback (most recent call last)",
      "Cell \u001b[0;32mIn[23], line 2\u001b[0m\n\u001b[1;32m      1\u001b[0m number_as_string \u001b[38;5;241m=\u001b[39m \u001b[38;5;124m\"\u001b[39m\u001b[38;5;124m5.x\u001b[39m\u001b[38;5;124m\"\u001b[39m\n\u001b[0;32m----> 2\u001b[0m change_to_float \u001b[38;5;241m=\u001b[39m \u001b[38;5;28;43mfloat\u001b[39;49m\u001b[43m(\u001b[49m\u001b[43mnumber_as_string\u001b[49m\u001b[43m)\u001b[49m\n\u001b[1;32m      3\u001b[0m \u001b[38;5;28mprint\u001b[39m (\u001b[38;5;28mtype\u001b[39m(number_as_string))\n\u001b[1;32m      4\u001b[0m \u001b[38;5;28mprint\u001b[39m (\u001b[38;5;28mtype\u001b[39m(change_to_int))\n",
      "\u001b[0;31mValueError\u001b[0m: could not convert string to float: '5.x'"
     ]
    }
   ],
   "source": [
    "number_as_string = \"5.x\"\n",
    "change_to_float = float(number_as_string)\n",
    "print (type(number_as_string))\n",
    "print (type(change_to_int))"
   ]
  },
  {
   "cell_type": "code",
   "execution_count": 27,
   "id": "70e78a0e-ce5f-44d4-8cd6-e592dca359c5",
   "metadata": {},
   "outputs": [
    {
     "name": "stdin",
     "output_type": "stream",
     "text": [
      "Enter the first number 100\n",
      "Enter the second number 200\n"
     ]
    },
    {
     "name": "stdout",
     "output_type": "stream",
     "text": [
      "100\n",
      "200\n"
     ]
    }
   ],
   "source": [
    "#input form user using keyboard\n",
    "\n",
    "# Problem: Enter two numbers and print them.\n",
    "\n",
    "first_number = input(\"Enter the first number\")\n",
    "second_number = input(\"Enter the second number\")\n",
    "\n",
    "print(first_number)\n",
    "print(second_number)"
   ]
  },
  {
   "cell_type": "code",
   "execution_count": 29,
   "id": "529f3dcc-8843-4e34-8b2e-0c3c72c62fb2",
   "metadata": {},
   "outputs": [
    {
     "name": "stdin",
     "output_type": "stream",
     "text": [
      "Enter a number 5\n"
     ]
    },
    {
     "name": "stdout",
     "output_type": "stream",
     "text": [
      "55\n",
      "\n",
      "\n",
      "The correct output is shown below: \n",
      "\n",
      "10\n"
     ]
    }
   ],
   "source": [
    "# Type casting and user input\n",
    "# Problem: Enter a number using keyboard and print the double of the number i.e., 2 * entered number. \n",
    "\n",
    "user_input = input(\"Enter a number\")\n",
    "\n",
    "wrong_output = 2 * user_input\n",
    "print(wrong_output)\n",
    "\n",
    "\n",
    "print(\"\\n\")\n",
    "print(\"The correct output is shown below: \\n\")\n",
    "\n",
    "correct_input = 2 * int(user_input)\n",
    "print(correct_input)"
   ]
  },
  {
   "cell_type": "code",
   "execution_count": 38,
   "id": "42116861-fe10-4924-866e-23e57d33b34f",
   "metadata": {},
   "outputs": [
    {
     "name": "stdin",
     "output_type": "stream",
     "text": [
      "Enter the radius:  3\n",
      "Enter the value of Pi:  3.14\n"
     ]
    },
    {
     "name": "stdout",
     "output_type": "stream",
     "text": [
      "The volume of sphere is\n",
      "113.03999999999999\n"
     ]
    }
   ],
   "source": [
    "# calculate the volume of a sphere\n",
    "\n",
    "radius = float(input(\"Enter the radius: \"))\n",
    "my_pi = float(input(\"Enter the value of Pi: \"))\n",
    "sphere_volume = (4/3) * my_pi * radius**3\n",
    "print(\"The volume of sphere is\")\n",
    "print(sphere_volume)"
   ]
  },
  {
   "cell_type": "code",
   "execution_count": 45,
   "id": "3ce67cd5-7bd8-4f79-87ef-57602092882e",
   "metadata": {},
   "outputs": [
    {
     "name": "stdin",
     "output_type": "stream",
     "text": [
      "Enter the radius:  3\n",
      "Enter the value of Pi:  3.14\n"
     ]
    },
    {
     "name": "stdout",
     "output_type": "stream",
     "text": [
      "The volume of sphere is\n",
      "113.03999999999999\n",
      "\n",
      "...........................................\n",
      "The volume of sphere is: 113.03999999999999, when the radius is: 3.0 \n",
      "\n",
      "...........................................\n",
      "The volume of sphere is: 113.03999999999999, when the radius is: 3.0 \n",
      "\n"
     ]
    }
   ],
   "source": [
    "#using the format option\n",
    "\n",
    "radius = float(input(\"Enter the radius: \"))\n",
    "my_pi = float(input(\"Enter the value of Pi: \"))\n",
    "sphere_volume = (4/3) * my_pi * pow(radius, 3)\n",
    "print(\"The volume of sphere is\")\n",
    "print(sphere_volume)\n",
    "\n",
    "print(\"\\n...........................................\")\n",
    "print(f\"The volume of sphere is: {sphere_volume}, when the radius is: {radius} \\n\")\n",
    "\n",
    "print(\"...........................................\")\n",
    "message = \"The volume of sphere is: {}, when the radius is: {} \\n\".format(sphere_volume, radius)\n",
    "print(message)\n",
    "\n",
    "\n"
   ]
  },
  {
   "cell_type": "code",
   "execution_count": 49,
   "id": "a806c6be-23bb-416e-894c-7f73fc90327f",
   "metadata": {},
   "outputs": [
    {
     "name": "stdin",
     "output_type": "stream",
     "text": [
      "Enter your name:  ILP Course\n",
      "What is your age ? 2024\n"
     ]
    },
    {
     "name": "stdout",
     "output_type": "stream",
     "text": [
      "Your name is ILP Course, and your age is 2024\n"
     ]
    }
   ],
   "source": [
    "'''\n",
    "Write a Python script that explicitly asks the user for its name and its age.\n",
    "Later on, the scripts should display a message, reading\n",
    "Your name is: _________, and your age is  ____.\n",
    "'''\n",
    "#ask the user's name\n",
    "user_name = input(\"Enter your name: \")\n",
    "\n",
    "#ask age\n",
    "user_age = input(\"What is your age ?\")\n",
    "\n",
    "#Showing the output\n",
    "print(f\"Your name is {user_name}, and your age is {user_age}\")\n"
   ]
  },
  {
   "cell_type": "code",
   "execution_count": 64,
   "id": "9b3315a0-c422-40c8-b235-e179c3f6d883",
   "metadata": {},
   "outputs": [
    {
     "name": "stdout",
     "output_type": "stream",
     "text": [
      "The value of delta is 196.\n",
      "The roots of the quadratic equation are: x1 = 4.0 and x2 = -3.0.\n"
     ]
    }
   ],
   "source": [
    "import math\n",
    "\n",
    "# Coefficients of the quadratic equation\n",
    "a = 2\n",
    "b = -2\n",
    "c = -24\n",
    "\n",
    "# Compute the discriminant\n",
    "delta = b**2 - 4*a*c\n",
    "print(f\"The value of delta is {delta}.\")\n",
    "\n",
    "x1 = (-b + math.sqrt(delta)) / (2*a)\n",
    "x2 = (-b - math.sqrt(delta)) / (2*a)\n",
    "    \n",
    "print(f\"The roots of the quadratic equation are: x1 = {x1} and x2 = {x2}.\")\n",
    "\n",
    "\n"
   ]
  },
  {
   "cell_type": "code",
   "execution_count": 58,
   "id": "b687eeaa-3881-4da9-9070-542d64622064",
   "metadata": {},
   "outputs": [
    {
     "name": "stdout",
     "output_type": "stream",
     "text": [
      "Each friend will receive 7 apples and 1 apples will be left over\n"
     ]
    }
   ],
   "source": [
    "'''\n",
    "Problem 2: You want to distribute 50 apples equally among 7 friends. \n",
    "How many apples will each friend receive, and how many apples will be left over? \n",
    "'''\n",
    "total_apples = 50\n",
    "num_friends = 7\n",
    "\n",
    "# Calculate apples per friend and remaining apples\n",
    "apples_per_friend = total_apples // num_friends\n",
    "remaining_apples = total_apples % num_friends\n",
    "print(\"Each friend will receive\", apples_per_friend, \"apples and\", remaining_apples, \"apples will be left over\")"
   ]
  },
  {
   "cell_type": "code",
   "execution_count": 60,
   "id": "76cfa9a1-088e-400f-a73d-7d9e7d2e4473",
   "metadata": {},
   "outputs": [
    {
     "name": "stdout",
     "output_type": "stream",
     "text": [
      "2. Cost of fencing the garden: 200 dollars\n"
     ]
    }
   ],
   "source": [
    "'''\n",
    "Problem 4: You have a rectangular garden with a length of 12m and a width of 8 m. \n",
    "If you want to fence the perimeter of the garden with a fence that costs $5 per meter, \n",
    "how much will it cost you? (Use arithmetic operators and logical operators) \n",
    "'''\n",
    "length = 12  # meters\n",
    "width = 8  # meters\n",
    "fence_cost_per_meter = 5  # dollars\n",
    "perimeter = 2 * (length + width)\n",
    "fence_cost = perimeter * fence_cost_per_meter\n",
    "print(\"2. Cost of fencing the garden:\", fence_cost, \"dollars\")"
   ]
  },
  {
   "cell_type": "code",
   "execution_count": 56,
   "id": "cc967770-c8af-413c-914a-065a7f6209f5",
   "metadata": {},
   "outputs": [
    {
     "name": "stdout",
     "output_type": "stream",
     "text": [
      "The value of (x + y + z) / (2 * z) is: 1.0\n"
     ]
    }
   ],
   "source": [
    "#Problem 5: If x/3 = y/4 = z/7, then find the value of (x+y+z)/2z\n",
    "\n",
    "ratio_x = 3\n",
    "ratio_y = 4\n",
    "ratio_z = 7\n",
    "\n",
    "# Calculate the value of x, y, and z\n",
    "k = 1  # Constant value\n",
    "x = ratio_x * k\n",
    "y = ratio_y * k\n",
    "z = ratio_z * k\n",
    "\n",
    "# Calculate the expression (x + y + z) / (2 * z)\n",
    "result = (x + y + z) / (2 * z)\n",
    "\n",
    "print(\"The value of (x + y + z) / (2 * z) is:\", result)\n"
   ]
  },
  {
   "cell_type": "code",
   "execution_count": 36,
   "id": "85a9fb54-104d-4fb1-97ba-e9236d6df445",
   "metadata": {},
   "outputs": [
    {
     "data": {
      "text/plain": [
       "int"
      ]
     },
     "execution_count": 36,
     "metadata": {},
     "output_type": "execute_result"
    }
   ],
   "source": [
    "type(x)"
   ]
  },
  {
   "cell_type": "code",
   "execution_count": 10,
   "id": "adb28bc4-efc1-4fc8-9050-b38b982da8ae",
   "metadata": {},
   "outputs": [
    {
     "name": "stdout",
     "output_type": "stream",
     "text": [
      "Hello 5\n"
     ]
    }
   ],
   "source": [
    "print(\"Hello\",5)"
   ]
  },
  {
   "cell_type": "code",
   "execution_count": null,
   "id": "62841aa8-6647-4222-af70-f0113b4c8515",
   "metadata": {},
   "outputs": [],
   "source": []
  }
 ],
 "metadata": {
  "kernelspec": {
   "display_name": "Python 3 (ipykernel)",
   "language": "python",
   "name": "python3"
  },
  "language_info": {
   "codemirror_mode": {
    "name": "ipython",
    "version": 3
   },
   "file_extension": ".py",
   "mimetype": "text/x-python",
   "name": "python",
   "nbconvert_exporter": "python",
   "pygments_lexer": "ipython3",
   "version": "3.12.2"
  }
 },
 "nbformat": 4,
 "nbformat_minor": 5
}
