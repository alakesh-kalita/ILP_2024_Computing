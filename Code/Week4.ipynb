{
 "cells": [
  {
   "cell_type": "code",
   "execution_count": 1,
   "id": "7c69244d-32ba-4127-982a-fc85e0ea65cd",
   "metadata": {},
   "outputs": [
    {
     "name": "stdout",
     "output_type": "stream",
     "text": [
      "(2, 4)\n"
     ]
    }
   ],
   "source": [
    "import numpy as np\n",
    "\n",
    "arr = np.array([[1, 2, 3, 4], [5, 6, 7, 8]])\n",
    "\n",
    "print(arr.shape)"
   ]
  },
  {
   "cell_type": "code",
   "execution_count": 2,
   "id": "0b8bceac-8da6-4b11-8ba0-473f3045ddd2",
   "metadata": {},
   "outputs": [
    {
     "name": "stdout",
     "output_type": "stream",
     "text": [
      "[[[[[1 2 3 4]]]]]\n",
      "shape of array : (1, 1, 1, 1, 4)\n"
     ]
    }
   ],
   "source": [
    "\n",
    "arr = np.array([1, 2, 3, 4], ndmin=5)\n",
    "\n",
    "print(arr)\n",
    "print('shape of array :', arr.shape)"
   ]
  },
  {
   "cell_type": "code",
   "execution_count": null,
   "id": "648e3243-93d6-4b38-b686-ddca2bca275a",
   "metadata": {},
   "outputs": [],
   "source": []
  },
  {
   "cell_type": "code",
   "execution_count": 3,
   "id": "e509697f-e10c-4953-8b87-2f0a1ee38e71",
   "metadata": {},
   "outputs": [
    {
     "name": "stdout",
     "output_type": "stream",
     "text": [
      "[[ 1  2  3]\n",
      " [ 4  5  6]\n",
      " [ 7  8  9]\n",
      " [10 11 12]]\n"
     ]
    }
   ],
   "source": [
    "import numpy as np\n",
    "\n",
    "arr = np.array([1, 2, 3, 4, 5, 6, 7, 8, 9, 10, 11, 12])\n",
    "\n",
    "newarr = arr.reshape(4, 3)\n",
    "\n",
    "print(newarr)"
   ]
  },
  {
   "cell_type": "code",
   "execution_count": 4,
   "id": "50c5e2d8-e58e-4cce-a534-ccdc4232bb0e",
   "metadata": {},
   "outputs": [
    {
     "name": "stdout",
     "output_type": "stream",
     "text": [
      "[[[ 1  2]\n",
      "  [ 3  4]\n",
      "  [ 5  6]]\n",
      "\n",
      " [[ 7  8]\n",
      "  [ 9 10]\n",
      "  [11 12]]]\n"
     ]
    }
   ],
   "source": [
    "newarr = arr.reshape(2, 3, 2)\n",
    "\n",
    "print(newarr)"
   ]
  },
  {
   "cell_type": "code",
   "execution_count": 5,
   "id": "8659406e-abc2-4422-9890-4765072b19de",
   "metadata": {},
   "outputs": [
    {
     "name": "stdout",
     "output_type": "stream",
     "text": [
      "(array([3, 5, 6]),)\n"
     ]
    }
   ],
   "source": [
    "import numpy as np\n",
    "\n",
    "arr = np.array([1, 2, 3, 4, 5, 4, 4])\n",
    "\n",
    "x = np.where(arr == 4)\n",
    "\n",
    "print(x)"
   ]
  },
  {
   "cell_type": "code",
   "execution_count": 6,
   "id": "7bac75ff-d866-421c-b50a-7fcd4c57a6b5",
   "metadata": {},
   "outputs": [
    {
     "name": "stdout",
     "output_type": "stream",
     "text": [
      "[0 1 2 3]\n"
     ]
    }
   ],
   "source": [
    "arr = np.array([3, 2, 0, 1])\n",
    "\n",
    "print(np.sort(arr))"
   ]
  },
  {
   "cell_type": "code",
   "execution_count": 15,
   "id": "2eaf7e35-b3e3-4e76-93e7-97821f4882bd",
   "metadata": {},
   "outputs": [
    {
     "name": "stdout",
     "output_type": "stream",
     "text": [
      "2\n",
      "-\n",
      "Random integers: [39 30 32 70 30]\n"
     ]
    }
   ],
   "source": [
    "from numpy import random\n",
    "\n",
    "#Generate a random integer from 0 to 100:\n",
    "x = random.randint(100)\n",
    "print(x)\n",
    "print(\"-\")\n",
    "\n",
    "# Define the range\n",
    "lower_bound = 1\n",
    "upper_bound = 100\n",
    "\n",
    "# Generate 5 random integers within the range\n",
    "random_integers = np.random.randint(lower_bound, upper_bound + 1, size=5)\n",
    "\n",
    "print(\"Random integers:\", random_integers)"
   ]
  },
  {
   "cell_type": "code",
   "execution_count": 14,
   "id": "37180d75-bf86-4bf1-9e52-838402be73ff",
   "metadata": {},
   "outputs": [
    {
     "name": "stdout",
     "output_type": "stream",
     "text": [
      "0.41930549783237836\n",
      "-\n",
      "[0.14918863 0.34344053 0.63522142 0.05235805 0.1936798 ]\n"
     ]
    }
   ],
   "source": [
    "# Generate a random float from 0 to 1:\n",
    "x = random.rand()\n",
    "print(x)\n",
    "print(\"-\")\n",
    "\n",
    "#Generate a 1-D array containing 5 random floats:\n",
    "x = random.rand(5)\n",
    "print(x)      "
   ]
  },
  {
   "cell_type": "code",
   "execution_count": 16,
   "id": "bb1219f7-aa11-4257-aca3-3e1beaba999b",
   "metadata": {},
   "outputs": [
    {
     "name": "stdout",
     "output_type": "stream",
     "text": [
      "7\n"
     ]
    }
   ],
   "source": [
    "x = random.choice([3, 5, 7, 9])\n",
    "print(x)"
   ]
  },
  {
   "cell_type": "code",
   "execution_count": 4,
   "id": "28ca9cb3-06bd-4dd1-8bec-1327fffd1a6b",
   "metadata": {},
   "outputs": [
    {
     "name": "stdout",
     "output_type": "stream",
     "text": [
      "\n",
      "Options: add, borrow, return, list, exit\n"
     ]
    },
    {
     "name": "stdin",
     "output_type": "stream",
     "text": [
      "Enter action:  add\n",
      "Enter book title to add:  Hello World\n"
     ]
    },
    {
     "name": "stdout",
     "output_type": "stream",
     "text": [
      "Book 'Hello World' added to the library.\n",
      "\n",
      "Options: add, borrow, return, list, exit\n"
     ]
    },
    {
     "name": "stdin",
     "output_type": "stream",
     "text": [
      "Enter action:  list\n"
     ]
    },
    {
     "name": "stdout",
     "output_type": "stream",
     "text": [
      "Available books:\n",
      "Hello World\n",
      "\n",
      "Options: add, borrow, return, list, exit\n"
     ]
    },
    {
     "name": "stdin",
     "output_type": "stream",
     "text": [
      "Enter action:  borrow\n",
      "Enter book title to borrow:  Hello World\n"
     ]
    },
    {
     "name": "stdout",
     "output_type": "stream",
     "text": [
      "Book 'Hello World' borrowed.\n",
      "\n",
      "Options: add, borrow, return, list, exit\n"
     ]
    },
    {
     "name": "stdin",
     "output_type": "stream",
     "text": [
      "Enter action:  list\n"
     ]
    },
    {
     "name": "stdout",
     "output_type": "stream",
     "text": [
      "Available books:\n",
      "\n",
      "Options: add, borrow, return, list, exit\n"
     ]
    },
    {
     "name": "stdin",
     "output_type": "stream",
     "text": [
      "Enter action:  return\n",
      "Enter book title to return:  Hello World2\n"
     ]
    },
    {
     "name": "stdout",
     "output_type": "stream",
     "text": [
      "Book 'Hello World2' was not borrowed.\n",
      "\n",
      "Options: add, borrow, return, list, exit\n"
     ]
    },
    {
     "name": "stdin",
     "output_type": "stream",
     "text": [
      "Enter action:  Hello World\n"
     ]
    },
    {
     "name": "stdout",
     "output_type": "stream",
     "text": [
      "Invalid action.\n",
      "\n",
      "Options: add, borrow, return, list, exit\n"
     ]
    },
    {
     "name": "stdin",
     "output_type": "stream",
     "text": [
      "Enter action:  return\n",
      "Enter book title to return:  Hello World\n"
     ]
    },
    {
     "name": "stdout",
     "output_type": "stream",
     "text": [
      "Book 'Hello World' returned.\n",
      "\n",
      "Options: add, borrow, return, list, exit\n"
     ]
    },
    {
     "name": "stdin",
     "output_type": "stream",
     "text": [
      "Enter action:  list\n"
     ]
    },
    {
     "name": "stdout",
     "output_type": "stream",
     "text": [
      "Available books:\n",
      "Hello World\n",
      "\n",
      "Options: add, borrow, return, list, exit\n"
     ]
    },
    {
     "name": "stdin",
     "output_type": "stream",
     "text": [
      "Enter action:  exit\n"
     ]
    },
    {
     "name": "stdout",
     "output_type": "stream",
     "text": [
      "Exiting...\n"
     ]
    }
   ],
   "source": [
    "#Book Management\n",
    "\n",
    "class Library:\n",
    "    def __init__(self):\n",
    "        self.books = []\n",
    "        self.borrowed_books = []\n",
    "\n",
    "    def add_book(self, title):\n",
    "        self.books.append(title)\n",
    "        print(f\"Book '{title}' added to the library.\")\n",
    "\n",
    "    def borrow_book(self, title):\n",
    "        if title in self.books:\n",
    "            self.books.remove(title)\n",
    "            self.borrowed_books.append(title)\n",
    "            print(f\"Book '{title}' borrowed.\")\n",
    "        else:\n",
    "            print(f\"Book '{title}' is not available.\")\n",
    "\n",
    "    def return_book(self, title):\n",
    "        if title in self.borrowed_books:\n",
    "            self.borrowed_books.remove(title)\n",
    "            self.books.append(title)\n",
    "            print(f\"Book '{title}' returned.\")\n",
    "        else:\n",
    "            print(f\"Book '{title}' was not borrowed.\")\n",
    "\n",
    "    def list_books(self):\n",
    "        print(\"Available books:\")\n",
    "        for book in self.books:\n",
    "            print(book)\n",
    "\n",
    "library = Library()\n",
    "while True:\n",
    "    print(\"\\nOptions: add, borrow, return, list, exit\")\n",
    "    action = input(\"Enter action: \").strip().lower()\n",
    "\n",
    "    if action == \"add\":\n",
    "        title = input(\"Enter book title to add: \")\n",
    "        library.add_book(title)\n",
    "    elif action == \"borrow\":\n",
    "        title = input(\"Enter book title to borrow: \")\n",
    "        library.borrow_book(title)\n",
    "    elif action == \"return\":\n",
    "        title = input(\"Enter book title to return: \")\n",
    "        library.return_book(title)\n",
    "    elif action == \"list\":\n",
    "        library.list_books()\n",
    "    elif action == \"exit\":\n",
    "        print(\"Exiting...\")\n",
    "        break\n",
    "    else:\n",
    "        print(\"Invalid action.\")\n"
   ]
  },
  {
   "cell_type": "code",
   "execution_count": 3,
   "id": "6c396203-0ac0-48b1-89e4-97a8d7d7bc5c",
   "metadata": {},
   "outputs": [
    {
     "name": "stdout",
     "output_type": "stream",
     "text": [
      "\n",
      "Options: add, complete, view, exit\n"
     ]
    },
    {
     "name": "stdin",
     "output_type": "stream",
     "text": [
      "Enter action:  add\n",
      "Enter task description:  Sleep\n"
     ]
    },
    {
     "name": "stdout",
     "output_type": "stream",
     "text": [
      "Task 'Sleep' added.\n",
      "\n",
      "Options: add, complete, view, exit\n"
     ]
    },
    {
     "name": "stdin",
     "output_type": "stream",
     "text": [
      "Enter action:  view\n"
     ]
    },
    {
     "name": "stdout",
     "output_type": "stream",
     "text": [
      "To-Do List:\n",
      "0. Sleep - Incomplete\n",
      "\n",
      "Options: add, complete, view, exit\n"
     ]
    },
    {
     "name": "stdin",
     "output_type": "stream",
     "text": [
      "Enter action:  add\n",
      "Enter task description:  eat\n"
     ]
    },
    {
     "name": "stdout",
     "output_type": "stream",
     "text": [
      "Task 'eat' added.\n",
      "\n",
      "Options: add, complete, view, exit\n"
     ]
    },
    {
     "name": "stdin",
     "output_type": "stream",
     "text": [
      "Enter action:  complete\n",
      "Enter task index to complete:  1\n"
     ]
    },
    {
     "name": "stdout",
     "output_type": "stream",
     "text": [
      "Task 'eat' marked as complete.\n",
      "\n",
      "Options: add, complete, view, exit\n"
     ]
    },
    {
     "name": "stdin",
     "output_type": "stream",
     "text": [
      "Enter action:  view\n"
     ]
    },
    {
     "name": "stdout",
     "output_type": "stream",
     "text": [
      "To-Do List:\n",
      "0. Sleep - Incomplete\n",
      "1. eat - Completed\n",
      "\n",
      "Options: add, complete, view, exit\n"
     ]
    },
    {
     "name": "stdin",
     "output_type": "stream",
     "text": [
      "Enter action:  exit\n"
     ]
    },
    {
     "name": "stdout",
     "output_type": "stream",
     "text": [
      "Exiting...\n"
     ]
    }
   ],
   "source": [
    "#TodoList\n",
    "\n",
    "class TodoList:\n",
    "    def __init__(self):\n",
    "        self.tasks = []\n",
    "\n",
    "    def add_task(self, description):\n",
    "        self.tasks.append({\"description\": description, \"completed\": False})\n",
    "        print(f\"Task '{description}' added.\")\n",
    "\n",
    "    def complete_task(self, index):\n",
    "        if 0 <= index < len(self.tasks):\n",
    "            self.tasks[index][\"completed\"] = True\n",
    "            print(f\"Task '{self.tasks[index]['description']}' marked as complete.\")\n",
    "        else:\n",
    "            print(\"Invalid task index.\")\n",
    "\n",
    "    def view_tasks(self):\n",
    "        print(\"To-Do List:\")\n",
    "        for i, task in enumerate(self.tasks):\n",
    "            status = \"Completed\" if task[\"completed\"] else \"Incomplete\"\n",
    "            print(f\"{i}. {task['description']} - {status}\")\n",
    "\n",
    "todo_list = TodoList()\n",
    "while True:\n",
    "    print(\"\\nOptions: add, complete, view, exit\")\n",
    "    action = input(\"Enter action: \").strip().lower()\n",
    "\n",
    "    if action == \"add\":\n",
    "        description = input(\"Enter task description: \")\n",
    "        todo_list.add_task(description)\n",
    "    elif action == \"complete\":\n",
    "        index = int(input(\"Enter task index to complete: \"))\n",
    "        todo_list.complete_task(index)\n",
    "    elif action == \"view\":\n",
    "        todo_list.view_tasks()\n",
    "    elif action == \"exit\":\n",
    "        print(\"Exiting...\")\n",
    "        break\n",
    "    else:\n",
    "        print(\"Invalid action.\")\n"
   ]
  },
  {
   "cell_type": "code",
   "execution_count": 2,
   "id": "4a791ee1-01a4-4a93-a4d1-3954e2985484",
   "metadata": {},
   "outputs": [
    {
     "name": "stdout",
     "output_type": "stream",
     "text": [
      "\n",
      "Current Positions:\n",
      "Robot A: (0, 0)\n",
      "Robot B: (0, 0)\n",
      "\n",
      "Current Positions:\n",
      "Robot A: (0, 1)\n",
      "Robot B: (1, 0)\n",
      "\n",
      "Current Positions:\n",
      "Robot A: (0, 1)\n",
      "Robot B: (0, 0)\n",
      "\n",
      "Current Positions:\n",
      "Robot A: (0, 1)\n",
      "Robot B: (0, 0)\n",
      "\n",
      "Current Positions:\n",
      "Robot A: (1, 1)\n",
      "Robot B: (0, 0)\n",
      "\n",
      "Current Positions:\n",
      "Robot A: (1, 2)\n",
      "Robot B: (0, 1)\n",
      "Robot A vs Robot B:\n",
      "Robot A rolls 3, Robot B rolls 10\n",
      "Robot B wins!\n",
      "\n",
      "Robot B wins! Robot A is destroyed.\n"
     ]
    }
   ],
   "source": [
    "import random\n",
    "\n",
    "class Robot:\n",
    "    def __init__(self, name):\n",
    "        self.name = name\n",
    "        self.x = 0  # Random initial position on 4x4 grid\n",
    "        self.y = 0\n",
    "        self.is_destroyed = False\n",
    "\n",
    "    def move(self):\n",
    "        direction = random.choice(['up', 'down', 'left', 'right'])\n",
    "        if direction == 'up' and self.y < 3:\n",
    "            self.y += 1\n",
    "        elif direction == 'down' and self.y > 0:\n",
    "            self.y -= 1\n",
    "        elif direction == 'left' and self.x > 0:\n",
    "            self.x -= 1\n",
    "        elif direction == 'right' and self.x < 3:\n",
    "            self.x += 1\n",
    "\n",
    "    def position(self):\n",
    "        return (self.x, self.y)\n",
    "\n",
    "    def battle(self, other_robot):\n",
    "        if self.position() == other_robot.position():\n",
    "            self_number = random.randint(1, 10)\n",
    "            other_number = random.randint(1, 10)\n",
    "            print(f\"{self.name} vs {other_robot.name}:\")\n",
    "            print(f\"{self.name} rolls {self_number}, {other_robot.name} rolls {other_number}\")\n",
    "            if self_number > other_number:\n",
    "                print(f\"{self.name} wins!\")\n",
    "                other_robot.is_destroyed = True\n",
    "            elif other_number > self_number:\n",
    "                print(f\"{other_robot.name} wins!\")\n",
    "                self.is_destroyed = True\n",
    "            else:\n",
    "                print(\"It's a tie!\")\n",
    "    \n",
    "    def is_active(self):\n",
    "        return not self.is_destroyed\n",
    "\n",
    "\n",
    "# Initialize robots\n",
    "robotA = Robot(\"Robot A\")\n",
    "robotB = Robot(\"Robot B\")\n",
    "\n",
    "# Game loop\n",
    "while robotA.is_active() and robotB.is_active():\n",
    "    print(\"\\nCurrent Positions:\")\n",
    "    print(f\"{robotA.name}: {robotA.position()}\")\n",
    "    print(f\"{robotB.name}: {robotB.position()}\")\n",
    "\n",
    "    # Robots move\n",
    "    robotA.move()\n",
    "    robotB.move()\n",
    "\n",
    "    # Check if they battle\n",
    "    robotA.battle(robotB)\n",
    "\n",
    "# Game over\n",
    "if robotA.is_active():\n",
    "    print(f\"\\n{robotA.name} wins! {robotB.name} is destroyed.\")\n",
    "else:\n",
    "    print(f\"\\n{robotB.name} wins! {robotA.name} is destroyed.\")\n"
   ]
  },
  {
   "cell_type": "code",
   "execution_count": 6,
   "id": "6319e5da-7bbc-4f4c-a86a-5f6edc0ba562",
   "metadata": {},
   "outputs": [
    {
     "name": "stdout",
     "output_type": "stream",
     "text": [
      "<class 'list'>\n",
      "<class 'tuple'>\n"
     ]
    }
   ],
   "source": [
    "obstacles = [(0, 3), (1, 1), (2, 2)]\n",
    "\n",
    "print(type(obstacles))\n",
    "print(type(obstacles[0]))"
   ]
  },
  {
   "cell_type": "code",
   "execution_count": 7,
   "id": "ba8054f9-464a-4a07-a743-360793a8939f",
   "metadata": {},
   "outputs": [
    {
     "name": "stdout",
     "output_type": "stream",
     "text": [
      "Initial grid:\n",
      "---------------------\n",
      "| R |   |   |   |\n",
      "---------------------\n",
      "|   | X |   |   |\n",
      "---------------------\n",
      "|   |   | X |   |\n",
      "---------------------\n",
      "| X |   |   | 15 |\n",
      "---------------------\n",
      "\n",
      "Path taken by the robot:\n",
      "---------------------\n",
      "| R |   |   |   |\n",
      "---------------------\n",
      "| → | X |   |   |\n",
      "---------------------\n",
      "| → | → | X |   |\n",
      "---------------------\n",
      "| X | → | → | → |\n",
      "---------------------\n",
      "\n",
      "Final path:\n",
      "(Robot A starts at (0, 0))\n",
      "→ (0, 0) → (0, 1) → (0, 2) → (1, 2) → (1, 3) → (2, 3) Robot A reaches (3, 3) (15)\n"
     ]
    }
   ],
   "source": [
    "import random\n",
    "\n",
    "class Robot:\n",
    "    def __init__(self, name, start, goal, obstacles):\n",
    "        self.name = name\n",
    "        self.start = start\n",
    "        self.goal = goal\n",
    "        self.obstacles = obstacles\n",
    "        self.path = []\n",
    "    \n",
    "    def move(self, direction):\n",
    "        x, y = self.path[-1] if self.path else self.start\n",
    "        if direction == 'up' and y < 3:\n",
    "            y += 1\n",
    "        elif direction == 'down' and y > 0:\n",
    "            y -= 1\n",
    "        elif direction == 'left' and x > 0:\n",
    "            x -= 1\n",
    "        elif direction == 'right' and x < 3:\n",
    "            x += 1\n",
    "        return (x, y)\n",
    "    \n",
    "    def generate_path(self):\n",
    "        current = self.start\n",
    "        self.path.append(current)\n",
    "        while current != self.goal:\n",
    "            possible_moves = []\n",
    "            if current[0] > 0:\n",
    "                possible_moves.append('left')\n",
    "            if current[0] < 3:\n",
    "                possible_moves.append('right')\n",
    "            if current[1] > 0:\n",
    "                possible_moves.append('down')\n",
    "            if current[1] < 3:\n",
    "                possible_moves.append('up')\n",
    "            \n",
    "            # Avoid obstacles and previously visited cells\n",
    "            possible_moves = [move for move in possible_moves if self.move(move) not in self.obstacles and self.move(move) not in self.path]\n",
    "            \n",
    "            if not possible_moves:\n",
    "                return False\n",
    "            move = random.choice(possible_moves)\n",
    "            current = self.move(move)\n",
    "            self.path.append(current)\n",
    "        \n",
    "        return True\n",
    "\n",
    "# Initialize grid and obstacles\n",
    "grid_size = 4\n",
    "obstacles = [(0, 3), (1, 1), (2, 2)]\n",
    "robotA = Robot(\"Robot A\", (0, 0), (3, 3), obstacles)\n",
    "\n",
    "# Generate paths for robots\n",
    "robotA.generate_path()\n",
    "\n",
    "# Display initial grid\n",
    "print(\"Initial grid:\")\n",
    "for y in range(grid_size):\n",
    "    print(\"---------------------\")\n",
    "    for x in range(grid_size):\n",
    "        if (x, y) == robotA.start:\n",
    "            print(f\"| R \", end='')\n",
    "        elif (x, y) == robotA.goal:\n",
    "            print(f\"| {grid_size * grid_size - 1} \", end='')\n",
    "        elif (x, y) in obstacles:\n",
    "            print(f\"| X \", end='')\n",
    "        else:\n",
    "            print(f\"|   \", end='')\n",
    "    print(f\"|\")\n",
    "print(\"---------------------\")\n",
    "\n",
    "# Display path taken by the robot\n",
    "print(\"\\nPath taken by the robot:\")\n",
    "for y in range(grid_size):\n",
    "    print(\"---------------------\")\n",
    "    for x in range(grid_size):\n",
    "        if (x, y) == robotA.start:\n",
    "            print(f\"| R \", end='')\n",
    "        elif (x, y) in robotA.path:\n",
    "            print(f\"| → \", end='')\n",
    "        elif (x, y) == robotA.goal:\n",
    "            print(f\"| {grid_size * grid_size - 1} \", end='')\n",
    "        elif (x, y) in obstacles:\n",
    "            print(f\"| X \", end='')\n",
    "        else:\n",
    "            print(f\"|   \", end='')\n",
    "    print(f\"|\")\n",
    "print(\"---------------------\")\n",
    "\n",
    "# Display final path\n",
    "print(\"\\nFinal path:\")\n",
    "print(f\"({robotA.name} starts at {robotA.start})\")\n",
    "for i, pos in enumerate(robotA.path):\n",
    "    if i == len(robotA.path) - 1:\n",
    "        print(f\"{robotA.name} reaches {pos} ({grid_size * grid_size - 1})\")\n",
    "    else:\n",
    "        print(f\"→ {pos}\", end=' ')\n"
   ]
  },
  {
   "cell_type": "code",
   "execution_count": 8,
   "id": "bab12230-fa7e-400d-a6e2-9494a324c43a",
   "metadata": {},
   "outputs": [
    {
     "name": "stdout",
     "output_type": "stream",
     "text": [
      "Initial grid:\n",
      "---------------------\n",
      "| R |   |   |   |\n",
      "---------------------\n",
      "|   | X |   |   |\n",
      "---------------------\n",
      "|   |   | X |   |\n",
      "---------------------\n",
      "| X |   |   | 15 |\n",
      "---------------------\n",
      "\n",
      "Path taken by the robot:\n",
      "---------------------\n",
      "| R | → | → | → |\n",
      "---------------------\n",
      "|   | X | → | → |\n",
      "---------------------\n",
      "|   |   | X |   |\n",
      "---------------------\n",
      "| X |   |   | 15 |\n",
      "---------------------\n",
      "\n",
      "Final path:\n",
      "(Robot A starts at (0, 0))\n",
      "→ (0, 0) → (1, 0) → (2, 0) → (3, 0) → (3, 1) Robot A reaches (2, 1) (15)\n"
     ]
    }
   ],
   "source": [
    "import random\n",
    "\n",
    "class Robot:\n",
    "    def __init__(self, name, start, goal, obstacles):\n",
    "        self.name = name\n",
    "        self.start = start\n",
    "        self.goal = goal\n",
    "        self.obstacles = obstacles\n",
    "        self.path = []\n",
    "    \n",
    "    def move(self, direction):\n",
    "        x, y = self.path[-1] if self.path else self.start\n",
    "        if direction == 'up' and y < 3:\n",
    "            y += 1\n",
    "        elif direction == 'down' and y > 0:\n",
    "            y -= 1\n",
    "        elif direction == 'left' and x > 0:\n",
    "            x -= 1\n",
    "        elif direction == 'right' and x < 3:\n",
    "            x += 1\n",
    "        return (x, y)\n",
    "    \n",
    "    def generate_path(self):\n",
    "        current = self.start\n",
    "        self.path.append(current)\n",
    "        while current != self.goal:\n",
    "            possible_moves = []\n",
    "            if current[0] > 0:\n",
    "                possible_moves.append('left')\n",
    "            if current[0] < 3:\n",
    "                possible_moves.append('right')\n",
    "            if current[1] > 0:\n",
    "                possible_moves.append('down')\n",
    "            if current[1] < 3:\n",
    "                possible_moves.append('up')\n",
    "            \n",
    "            # Avoid obstacles and previously visited cells\n",
    "            possible_moves = [move for move in possible_moves if self.move(move) not in self.obstacles and self.move(move) not in self.path]\n",
    "            \n",
    "            if not possible_moves:\n",
    "                return False\n",
    "            move = random.choice(possible_moves)\n",
    "            current = self.move(move)\n",
    "            self.path.append(current)\n",
    "        \n",
    "        return True\n",
    "\n",
    "# Initialize grid and obstacles\n",
    "grid_size = 4\n",
    "obstacles = [(0, 3), (1, 1), (2, 2)]\n",
    "robotA = Robot(\"Robot A\", (0, 0), (3, 3), obstacles)\n",
    "\n",
    "# Generate paths for robots\n",
    "robotA.generate_path()\n",
    "\n",
    "# Display initial grid\n",
    "print(\"Initial grid:\")\n",
    "for y in range(grid_size):\n",
    "    print(\"---------------------\")\n",
    "    for x in range(grid_size):\n",
    "        if (x, y) == robotA.start:\n",
    "            print(f\"| R \", end='')\n",
    "        elif (x, y) == robotA.goal:\n",
    "            print(f\"| {grid_size * grid_size - 1} \", end='')\n",
    "        elif (x, y) in obstacles:\n",
    "            print(f\"| X \", end='')\n",
    "        else:\n",
    "            print(f\"|   \", end='')\n",
    "    print(f\"|\")\n",
    "print(\"---------------------\")\n",
    "\n",
    "# Display path taken by the robot\n",
    "print(\"\\nPath taken by the robot:\")\n",
    "for y in range(grid_size):\n",
    "    print(\"---------------------\")\n",
    "    for x in range(grid_size):\n",
    "        if (x, y) == robotA.start:\n",
    "            print(f\"| R \", end='')\n",
    "        elif (x, y) in robotA.path:\n",
    "            print(f\"| → \", end='')\n",
    "        elif (x, y) == robotA.goal:\n",
    "            print(f\"| {grid_size * grid_size - 1} \", end='')\n",
    "        elif (x, y) in obstacles:\n",
    "            print(f\"| X \", end='')\n",
    "        else:\n",
    "            print(f\"|   \", end='')\n",
    "    print(f\"|\")\n",
    "print(\"---------------------\")\n",
    "\n",
    "# Display final path\n",
    "print(\"\\nFinal path:\")\n",
    "print(f\"({robotA.name} starts at {robotA.start})\")\n",
    "for i, pos in enumerate(robotA.path):\n",
    "    if i == len(robotA.path) - 1:\n",
    "        print(f\"{robotA.name} reaches {pos} ({grid_size * grid_size - 1})\")\n",
    "    else:\n",
    "        print(f\"→ {pos}\", end=' ')\n"
   ]
  },
  {
   "cell_type": "code",
   "execution_count": null,
   "id": "2151732f-a798-4149-9564-a93e1e5f74b8",
   "metadata": {},
   "outputs": [],
   "source": []
  }
 ],
 "metadata": {
  "kernelspec": {
   "display_name": "Python 3 (ipykernel)",
   "language": "python",
   "name": "python3"
  },
  "language_info": {
   "codemirror_mode": {
    "name": "ipython",
    "version": 3
   },
   "file_extension": ".py",
   "mimetype": "text/x-python",
   "name": "python",
   "nbconvert_exporter": "python",
   "pygments_lexer": "ipython3",
   "version": "3.12.2"
  }
 },
 "nbformat": 4,
 "nbformat_minor": 5
}
