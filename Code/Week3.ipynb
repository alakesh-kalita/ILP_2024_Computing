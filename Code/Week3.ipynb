{
 "cells": [
  {
   "cell_type": "code",
   "execution_count": 4,
   "id": "84363f92-de04-4f4d-bf37-0323616dca53",
   "metadata": {},
   "outputs": [
    {
     "name": "stdout",
     "output_type": "stream",
     "text": [
      "[1, 2, 'hello', True]\n",
      "True\n",
      "<class 'list'>\n",
      "<class 'bool'>\n"
     ]
    }
   ],
   "source": [
    "# Creating a list object\n",
    "my_list = [1, 2, 'hello', True]\n",
    "\n",
    "print(my_list)\n",
    "\n",
    "print(my_list[3])\n",
    "\n",
    "print(type(my_list))\n",
    "\n",
    "print(type(my_list[3]))\n"
   ]
  },
  {
   "cell_type": "code",
   "execution_count": 8,
   "id": "1e0c982c-ec5b-4db5-b0b4-e35c7688449e",
   "metadata": {},
   "outputs": [
    {
     "name": "stdout",
     "output_type": "stream",
     "text": [
      "[101, 99, 97, 95]\n"
     ]
    }
   ],
   "source": [
    "var1 = 101\n",
    "var2 = 99\n",
    "var3 = 97\n",
    "var4 = 95\n",
    "\n",
    "another_list = [var1, var2, var3, var4]\n",
    "print(another_list)"
   ]
  },
  {
   "cell_type": "code",
   "execution_count": 5,
   "id": "c501f96b-b810-4fea-8c05-38acfb543b8f",
   "metadata": {},
   "outputs": [
    {
     "name": "stdout",
     "output_type": "stream",
     "text": [
      "Original List: [1, 2, 3, 4, 5]\n",
      "After Append(6): [1, 2, 3, 4, 5, 6]\n",
      "After Insert(2, 10): [1, 2, 10, 3, 4, 5, 6]\n",
      "After Remove(3): [1, 2, 10, 4, 5, 6]\n",
      "Popped Element: 5\n",
      "After Pop(4): [1, 2, 10, 4, 6]\n",
      "Length of List: 5\n"
     ]
    }
   ],
   "source": [
    "#List Operations\n",
    "\n",
    "# Creating a list\n",
    "my_list = [1, 2, 3, 4, 5]\n",
    "print(\"Original List:\", my_list)\n",
    "\n",
    "# Append operation\n",
    "my_list.append(6)\n",
    "print(\"After Append(6):\", my_list)\n",
    "\n",
    "# Insert operation\n",
    "my_list.insert(2, 10)\n",
    "print(\"After Insert(2, 10):\", my_list)\n",
    "\n",
    "# Remove operation\n",
    "my_list.remove(3)\n",
    "print(\"After Remove(3):\", my_list)\n",
    "\n",
    "# Pop operation\n",
    "popped_element = my_list.pop(4)\n",
    "print(\"Popped Element:\", popped_element)\n",
    "print(\"After Pop(4):\", my_list)\n",
    "\n",
    "# Length operation\n",
    "list_length = len(my_list)\n",
    "print(\"Length of List:\", list_length)\n"
   ]
  },
  {
   "cell_type": "code",
   "execution_count": 95,
   "id": "80506fd8-fa1f-491d-87e5-f2fdcb6a32b2",
   "metadata": {},
   "outputs": [
    {
     "name": "stdout",
     "output_type": "stream",
     "text": [
      "Now my list contains:  [10, 11, 12, 13, 14, 15, 16, 17, 18, 19]\n",
      "Length of my list is: 10\n",
      "0 --> 10\n",
      "1 --> 11\n",
      "2 --> 12\n",
      "3 --> 13\n",
      "4 --> 14\n",
      "5 --> 15\n",
      "6 --> 16\n",
      "7 --> 17\n",
      "8 --> 18\n",
      "9 --> 19\n"
     ]
    }
   ],
   "source": [
    "#How to create a list\n",
    "\n",
    "my_empty_list = [] # declare an empty list\n",
    "\n",
    "for i in range(10,20):\n",
    "    my_empty_list.append(i)\n",
    "\n",
    "print(\"Now my list contains: \", my_empty_list)\n",
    "\n",
    "print(\"Length of my list is:\", len(my_empty_list))\n",
    "\n",
    "for index in range(len(my_empty_list)):\n",
    "    print(index, \"-->\", my_empty_list[index])"
   ]
  },
  {
   "cell_type": "code",
   "execution_count": 114,
   "id": "d1a4e157-a07f-429c-86da-a4dcf60e744e",
   "metadata": {},
   "outputs": [
    {
     "name": "stdout",
     "output_type": "stream",
     "text": [
      "[1, 2, 3, 4, 'a', 'b']\n"
     ]
    }
   ],
   "source": [
    "#Concatenation \n",
    "\n",
    "first_list = [1, 2, 3, 4]\n",
    "\n",
    "second_list = ['a', 'b']\n",
    "\n",
    "third_list = first_list + second_list\n",
    "\n",
    "print(third_list)"
   ]
  },
  {
   "cell_type": "code",
   "execution_count": 74,
   "id": "8fcd6d61-e7cc-4b31-a95b-33b9dfdce018",
   "metadata": {},
   "outputs": [
    {
     "name": "stdout",
     "output_type": "stream",
     "text": [
      "[2, 'hello']\n",
      "[1, 2, 'hello', True, 4, 5, 8, 0, 'a']\n",
      "[5, 8, 0, 'a']\n",
      "[1, 2, 'hello', True]\n",
      "[2, True, 5, 0]\n"
     ]
    }
   ],
   "source": [
    "#List Slicing\n",
    "\n",
    "my_list = [1, 2, 'hello', True, 4, 5, 8, 0, 'a']\n",
    "\n",
    "print(my_list[1:3]) #end_index is excluded\n",
    "\n",
    "print(my_list[:])\n",
    "\n",
    "print(my_list[5:])\n",
    "\n",
    "print(my_list[:4])\n",
    "\n",
    "print(my_list[1:8:2])\n"
   ]
  },
  {
   "cell_type": "code",
   "execution_count": 91,
   "id": "5452ef92-63d3-402a-9d01-6c98e1ee6ac4",
   "metadata": {},
   "outputs": [
    {
     "name": "stdout",
     "output_type": "stream",
     "text": [
      "['a', 0, 8, 5, 4, True, 'hello', 2]\n",
      "\n",
      "\n",
      "[8, 5, 4, True, 'hello', 2]\n"
     ]
    }
   ],
   "source": [
    "my_list = [1, 2, 'hello', True, 4, 5, 8, 0, 'a']\n",
    "\n",
    "print(my_list[-1 : -len(my_list) : -1])\n",
    "\n",
    "print(\"\\n\")\n",
    "print(my_list[-3 : -len(my_list) : -1])"
   ]
  },
  {
   "cell_type": "code",
   "execution_count": 14,
   "id": "42da0761-f3a7-415e-95de-63f87e6760ca",
   "metadata": {},
   "outputs": [
    {
     "name": "stdout",
     "output_type": "stream",
     "text": [
      "Original List: [4, 2, 1, 3, 2, 4, 3]\n",
      "After Sorting: [1, 2, 2, 3, 3, 4, 4]\n",
      "After Reversing: [4, 4, 3, 3, 2, 2, 1]\n",
      "Count of 2: 2\n",
      "Index of 3: 2\n"
     ]
    }
   ],
   "source": [
    "# common methods use with list\n",
    "\n",
    "# Creating a list\n",
    "my_list = [4, 2, 1, 3, 2, 4, 3]\n",
    "print(\"Original List:\", my_list)\n",
    "\n",
    "# sort() method - Sort the elements of the list in ascending order\n",
    "my_list.sort()\n",
    "print(\"After Sorting:\", my_list)\n",
    "\n",
    "# reverse() method - Reverse the order of elements in the list\n",
    "my_list.reverse()\n",
    "print(\"After Reversing:\", my_list)\n",
    "\n",
    "# count() method - Count the occurrences of a specified value\n",
    "count_2 = my_list.count(2)\n",
    "print(\"Count of 2:\", count_2)\n",
    "\n",
    "# index() method - Return the index of the first occurrence of a value\n",
    "index_3 = my_list.index(3)\n",
    "print(\"Index of 3:\", index_3)\n"
   ]
  },
  {
   "cell_type": "code",
   "execution_count": 21,
   "id": "536fbf47-2f0b-4f49-8ea5-7ad16b23de9f",
   "metadata": {},
   "outputs": [
    {
     "name": "stdout",
     "output_type": "stream",
     "text": [
      "Random Numbers List: [6, 5, 3, 4, 8, 1, 9, 2, 12, 11]\n",
      "Sorted list -->  [1, 2, 3, 4, 5, 6, 8, 9, 11, 12]\n",
      "Smallest Number: 1\n",
      "Index of Smallest Number: 0\n"
     ]
    }
   ],
   "source": [
    "'''\n",
    "Create a list with 10 random numbers. \n",
    "Print smallest number of the list. Print the \n",
    "index of smallest number.\n",
    "'''\n",
    "\n",
    "# Create a list with 10 random numbers\n",
    "random_numbers = [6,5,3,4,8,1,9,2,12,11]\n",
    "print(\"Random Numbers List:\", random_numbers)\n",
    "\n",
    "# sort the list\n",
    "random_numbers.sort()\n",
    "print(\"Sorted list --> \", random_numbers)\n",
    "\n",
    "\n",
    "print(\"Smallest Number:\",random_numbers[0])\n",
    "\n",
    "small_number_index = random_numbers.index(random_numbers[0])\n",
    "\n",
    "print(\"Index of Smallest Number:\", small_number_index)\n"
   ]
  },
  {
   "cell_type": "code",
   "execution_count": 22,
   "id": "0ff98a0a-1216-48c5-b8d8-49ce4049da78",
   "metadata": {},
   "outputs": [
    {
     "name": "stdout",
     "output_type": "stream",
     "text": [
      "Smallest Number: 1\n",
      "Index of Smallest Number: 0\n"
     ]
    }
   ],
   "source": [
    "# Find the smallest number in the list\n",
    "smallest_number = min(random_numbers)\n",
    "print(\"Smallest Number:\", smallest_number)\n",
    "\n",
    "# Find the index of the smallest number\n",
    "smallest_index = random_numbers.index(smallest_number)\n",
    "print(\"Index of Smallest Number:\", smallest_index)"
   ]
  },
  {
   "cell_type": "code",
   "execution_count": 24,
   "id": "c7bc1fb3-9cdc-4a83-b07e-dbbf7e7daa04",
   "metadata": {},
   "outputs": [
    {
     "name": "stdout",
     "output_type": "stream",
     "text": [
      "Biggest Number: 12\n",
      "Index of Biggest Number: 9\n",
      "Size of list 10\n"
     ]
    }
   ],
   "source": [
    "# Find the Biggest number in the list\n",
    "Biggest_number = max(random_numbers)\n",
    "print(\"Biggest Number:\", Biggest_number)\n",
    "\n",
    "# Find the index of the smallest number\n",
    "smallest_index = random_numbers.index(Biggest_number)\n",
    "print(\"Index of Biggest Number:\", smallest_index)\n",
    "print(\"Size of list\",len(random_numbers))"
   ]
  },
  {
   "cell_type": "code",
   "execution_count": 2,
   "id": "e42582b0-2c82-4851-99cd-6af5317ebc34",
   "metadata": {},
   "outputs": [
    {
     "name": "stdout",
     "output_type": "stream",
     "text": [
      "[1, 2, 'hello', True]\n",
      "1\n",
      "2\n",
      "hello\n",
      "True\n"
     ]
    }
   ],
   "source": [
    "my_list = [1, 2, 'hello', True]\n",
    "\n",
    "print(my_list)\n",
    "\n",
    "print(my_list[0])\n",
    "print(my_list[1])\n",
    "print(my_list[2])\n",
    "print(my_list[3])"
   ]
  },
  {
   "cell_type": "code",
   "execution_count": 3,
   "id": "a03c0681-308b-4fb0-8deb-fb25c77ab533",
   "metadata": {},
   "outputs": [
    {
     "name": "stdout",
     "output_type": "stream",
     "text": [
      "1\n",
      "2\n",
      "hello\n",
      "True\n"
     ]
    }
   ],
   "source": [
    "for i in my_list:\n",
    "    print(i)"
   ]
  },
  {
   "cell_type": "code",
   "execution_count": 4,
   "id": "cd244be5-3c53-4462-a333-9a201c3ca28c",
   "metadata": {},
   "outputs": [
    {
     "name": "stdout",
     "output_type": "stream",
     "text": [
      "Average grade: 85.0\n"
     ]
    }
   ],
   "source": [
    "# Predefined grades for 5 subjects\n",
    "grade1 = 85\n",
    "grade2 = 90\n",
    "grade3 = 75\n",
    "grade4 = 80\n",
    "grade5 = 95\n",
    "number_of_subjects = 5\n",
    "# Calculate average\n",
    "average = (grade1 + grade2 + grade3 + grade4 + grade5) / number_of_subjects\n",
    "\n",
    "# Print average\n",
    "print(\"Average grade:\", average)"
   ]
  },
  {
   "cell_type": "code",
   "execution_count": 11,
   "id": "1d6e7360-e08b-46ee-8c2b-15d587579eae",
   "metadata": {},
   "outputs": [
    {
     "name": "stdout",
     "output_type": "stream",
     "text": [
      "Average grade: 85.0\n"
     ]
    }
   ],
   "source": [
    "grades = [85, 90, 75, 80, 95]\n",
    "\n",
    "total_grade = 0\n",
    "for g in grades:\n",
    "    total_grade = total_grade + g\n",
    "\n",
    "# Print average\n",
    "print(\"Average grade:\", total_grade/len(grades))"
   ]
  },
  {
   "cell_type": "code",
   "execution_count": 106,
   "id": "0aec690a-95f9-4fee-afd0-dc47d88912be",
   "metadata": {},
   "outputs": [
    {
     "name": "stdout",
     "output_type": "stream",
     "text": [
      "Student: 1, Subject: 1  --> 85\n",
      "Student: 1, Subject: 2  --> 90\n",
      "Student: 1, Subject: 3  --> 75\n",
      "----------------------------\n",
      "Student: 3, Subject: 1  --> 90\n",
      "Student: 3, Subject: 2  --> 95\n",
      "\n",
      "-----------All studendes details----------\n",
      "\n",
      "[85, 90, 75, 80, 95]\n",
      "[70, 85, 90, 65, 75]\n",
      "[90, 95, 85, 80, 85]\n"
     ]
    }
   ],
   "source": [
    "grades = [\n",
    "    [85, 90, 75, 80, 95],  # Grades for student 1\n",
    "    [70, 85, 90, 65, 75],  # Grades for student 2\n",
    "    [90, 95, 85, 80, 85]   # Grades for student 3\n",
    "]\n",
    "\n",
    "print(\"Student: 1, Subject: 1  -->\", grades[0][0])\n",
    "print(\"Student: 1, Subject: 2  -->\", grades[0][1])\n",
    "print(\"Student: 1, Subject: 3  -->\", grades[0][2])\n",
    "\n",
    "print(\"----------------------------\")\n",
    "\n",
    "print(\"Student: 3, Subject: 1  -->\", grades[2][0])\n",
    "print(\"Student: 3, Subject: 2  -->\", grades[2][1])\n",
    "\n",
    "print(\"\\n-----------All studendes details----------\\n\")\n",
    "\n",
    "for line in grades:\n",
    "    print(line)\n",
    "    # print(\"------------\")\n",
    "    # for element in line:\n",
    "    #      print(element)\n",
    "\n"
   ]
  },
  {
   "cell_type": "code",
   "execution_count": 110,
   "id": "8b61a4e8-2918-4b37-9beb-4a4b9d01bf6f",
   "metadata": {},
   "outputs": [
    {
     "name": "stdout",
     "output_type": "stream",
     "text": [
      "[85, 90, 75, 80, 95]\n",
      "------------\n",
      "85\n",
      "90\n",
      "75\n",
      "80\n",
      "95\n",
      "\n",
      "\n",
      "[70, 85, 90, 65, 75]\n",
      "------------\n",
      "70\n",
      "85\n",
      "90\n",
      "65\n",
      "75\n",
      "\n",
      "\n",
      "[90, 95, 85, 80, 85]\n",
      "------------\n",
      "90\n",
      "95\n",
      "85\n",
      "80\n",
      "85\n",
      "\n",
      "\n"
     ]
    }
   ],
   "source": [
    "grades = [\n",
    "    [85, 90, 75, 80, 95],  # Grades for student 1\n",
    "    [70, 85, 90, 65, 75],  # Grades for student 2\n",
    "    [90, 95, 85, 80, 85]   # Grades for student 3\n",
    "]\n",
    "\n",
    "for student in grades:\n",
    "    print(student)\n",
    "    print(\"------------\")\n",
    "    for subjects in student:\n",
    "         print(subjects)\n",
    "\n",
    "    print(\"\\n\")\n"
   ]
  },
  {
   "cell_type": "code",
   "execution_count": 18,
   "id": "e71dd01f-1b9c-44c7-80c4-d8df4e43d50e",
   "metadata": {},
   "outputs": [
    {
     "name": "stdout",
     "output_type": "stream",
     "text": [
      "0 apple\n",
      "1 banana\n",
      "2 cherry\n"
     ]
    }
   ],
   "source": [
    "#use of enumerate function\n",
    "\n",
    "my_list = ['apple', 'banana', 'cherry']\n",
    "\n",
    "for index, value in enumerate(my_list):\n",
    "    print(index, value)"
   ]
  },
  {
   "cell_type": "code",
   "execution_count": 19,
   "id": "42483d30-a3f2-4579-a7d5-916dfe65886b",
   "metadata": {},
   "outputs": [
    {
     "name": "stdout",
     "output_type": "stream",
     "text": [
      "Printing the grades of each student\n",
      "Student  1 has obtained:  [85, 90, 75, 80, 95]\n",
      "Student  2 has obtained:  [70, 85, 90, 65, 75]\n",
      "Student  3 has obtained:  [90, 95, 85, 80, 85]\n"
     ]
    }
   ],
   "source": [
    "grades = [\n",
    "    [85, 90, 75, 80, 95],  # Grades for student 1\n",
    "    [70, 85, 90, 65, 75],  # Grades for student 2\n",
    "    [90, 95, 85, 80, 85]   # Grades for student 3\n",
    "]\n",
    "\n",
    "\n",
    "print(\"Printing the grades of each student\")\n",
    "\n",
    "for s_index, s_grades in enumerate(grades):\n",
    "    print(\"Student \", s_index+1, \"has obtained: \", s_grades)\n",
    "    \n"
   ]
  },
  {
   "cell_type": "code",
   "execution_count": 26,
   "id": "0b05e924-65fa-4044-a146-fccd28fb6100",
   "metadata": {},
   "outputs": [
    {
     "name": "stdout",
     "output_type": "stream",
     "text": [
      "\n",
      "Student  1 Details:\n",
      "He/She Grades:  [85, 90, 75, 80, 95]\n",
      "His/Her Avg. Grades 85.0\n",
      "\n",
      "Student  2 Details:\n",
      "He/She Grades:  [70, 85, 90, 65, 75]\n",
      "His/Her Avg. Grades 77.0\n",
      "\n",
      "Student  3 Details:\n",
      "He/She Grades:  [90, 95, 85, 80, 85]\n",
      "His/Her Avg. Grades 87.0\n"
     ]
    }
   ],
   "source": [
    "grades = [\n",
    "    [85, 90, 75, 80, 95],  # Grades for student 1\n",
    "    [70, 85, 90, 65, 75],  # Grades for student 2\n",
    "    [90, 95, 85, 80, 85]   # Grades for student 3\n",
    "]\n",
    "\n",
    "for s_index, s_grades in enumerate(grades):\n",
    "\n",
    "    print(\"\\nStudent \", s_index+1, \"Details:\")\n",
    "    \n",
    "    # total_grade =0\n",
    "    # for i_grade in s_grades:\n",
    "    #     total_grade = total_grade + i_grade\n",
    "\n",
    "    # avg_grade = total_grade/len(s_grades)\n",
    "    \n",
    "    avg_grade = sum(s_grades)/len(s_grades)\n",
    "    \n",
    "    print(\"He/She Grades: \", s_grades)\n",
    "    print(\"His/Her Avg. Grades\", avg_grade)\n",
    "    \n"
   ]
  },
  {
   "cell_type": "code",
   "execution_count": 60,
   "id": "9210800d-463c-49bf-8f36-28ef6fff6f6d",
   "metadata": {},
   "outputs": [
    {
     "name": "stdout",
     "output_type": "stream",
     "text": [
      "(1, 'a')\n",
      "(2, 'b')\n",
      "(3, 'c')\n"
     ]
    }
   ],
   "source": [
    "list1 = [1, 2, 3]\n",
    "list2 = ['a', 'b', 'c']\n",
    "\n",
    "zipped = zip(list1, list2)\n",
    "\n",
    "for item in zipped:\n",
    "    print(item)"
   ]
  },
  {
   "cell_type": "code",
   "execution_count": 59,
   "id": "6a1bd2a5-75cd-4ecb-ba21-9b817ca86ebd",
   "metadata": {},
   "outputs": [
    {
     "name": "stdout",
     "output_type": "stream",
     "text": [
      "1\n",
      "a\n",
      "------\n",
      "2\n",
      "b\n",
      "------\n",
      "3\n",
      "c\n",
      "------\n"
     ]
    }
   ],
   "source": [
    "list1 = [1, 2, 3]\n",
    "list2 = ['a', 'b', 'c']\n",
    "\n",
    "zipped = zip(list1, list2)\n",
    "\n",
    "for num, lett in zipped:\n",
    "    print(num)\n",
    "    print(lett)\n",
    "    print(\"------\")\n"
   ]
  },
  {
   "cell_type": "code",
   "execution_count": 61,
   "id": "48c22de9-4d66-4dbb-937d-b8693148f96d",
   "metadata": {},
   "outputs": [
    {
     "name": "stdout",
     "output_type": "stream",
     "text": [
      "(1, 'a')\n",
      "(2, 'b')\n",
      "(3, 'c')\n",
      "Printing Again\n",
      "Done\n"
     ]
    }
   ],
   "source": [
    "list1 = [1, 2, 3]\n",
    "list2 = ['a', 'b', 'c']\n",
    "\n",
    "zipped = zip(list1, list2)\n",
    "\n",
    "for item in zipped:\n",
    "    print(item)\n",
    "\n",
    "print(\"Printing Again\")\n",
    "\n",
    "for item in zipped:\n",
    "    print(item)\n",
    "\n",
    "print(\"Done\")\n"
   ]
  },
  {
   "cell_type": "code",
   "execution_count": 115,
   "id": "d552aaa1-387f-44f1-82e6-5180eb3898fe",
   "metadata": {},
   "outputs": [
    {
     "name": "stdout",
     "output_type": "stream",
     "text": [
      "Average: 85.0\n"
     ]
    }
   ],
   "source": [
    "#-------------------Introduction to Function---------------------\n",
    "\n",
    "# Calculate the average of a list of numbers\n",
    "numbers = [85, 90, 75, 80, 95]\n",
    "\n",
    "# Sum all numbers\n",
    "total = 0\n",
    "for num in numbers:\n",
    "    total += num\n",
    "\n",
    "# Calculate average\n",
    "average = total / len(numbers)\n",
    "\n",
    "print(\"Average:\", average)"
   ]
  },
  {
   "cell_type": "code",
   "execution_count": 116,
   "id": "ef3666f5-ea70-41de-8be2-16face62853f",
   "metadata": {},
   "outputs": [
    {
     "name": "stdout",
     "output_type": "stream",
     "text": [
      "Average of list 1: 85.0\n",
      "Average of list 2: 77.0\n"
     ]
    }
   ],
   "source": [
    "# Define a function to calculate average\n",
    "def calculate_average(numbers):\n",
    "    total = sum(numbers)\n",
    "    return total / len(numbers)\n",
    "    \n",
    "\n",
    "# Calculate average of the first list\n",
    "list1 = [85, 90, 75, 80, 95]\n",
    "average1 = calculate_average(list1)\n",
    "print(\"Average of list 1:\", average1)\n",
    "\n",
    "\n",
    "# Calculate average of the second list\n",
    "list2 = [70, 85, 90, 65, 75]\n",
    "average2 = calculate_average(list2)\n",
    "print(\"Average of list 2:\", average2)"
   ]
  },
  {
   "cell_type": "code",
   "execution_count": 118,
   "id": "9f39202c-df4f-4a61-85cc-7e6f3baff4c2",
   "metadata": {},
   "outputs": [
    {
     "name": "stdout",
     "output_type": "stream",
     "text": [
      "8\n"
     ]
    }
   ],
   "source": [
    "def add(a, b):\n",
    "    \"\"\"Add two numbers.\"\"\"\n",
    "    return a + b\n",
    "\n",
    "result = add(3, 5)\n",
    "print (result)"
   ]
  },
  {
   "cell_type": "code",
   "execution_count": 120,
   "id": "4f4839dd-fc8a-419b-9053-bd9edfcf48d6",
   "metadata": {},
   "outputs": [
    {
     "name": "stdout",
     "output_type": "stream",
     "text": [
      "0.6\n",
      "Error: Division by zero!\n"
     ]
    }
   ],
   "source": [
    "def divide(a, b):\n",
    "    \"\"\"Divide two numbers.\"\"\"\n",
    "    if b == 0:\n",
    "        return \"Error: Division by zero!\"\n",
    "    else:\n",
    "        return a / b\n",
    "\n",
    "print(divide(3,5))\n",
    "print(divide(3,0))"
   ]
  },
  {
   "cell_type": "code",
   "execution_count": 122,
   "id": "50d22f68-bd27-4ec8-a552-803fd7af0c81",
   "metadata": {},
   "outputs": [
    {
     "name": "stdout",
     "output_type": "stream",
     "text": [
      "0.6\n",
      "Error: Division by zero!\n"
     ]
    }
   ],
   "source": [
    "def divide(a, b):\n",
    "    \n",
    "    if b == 0:\n",
    "        return \"Error: Division by zero!\"\n",
    "    else:\n",
    "        return a / b\n",
    "\n",
    "    print(\"A Function stop excecuting after 'returning' a value \")\n",
    "\n",
    "print(divide(3,5))\n",
    "print(divide(3,0))"
   ]
  },
  {
   "cell_type": "code",
   "execution_count": 141,
   "id": "274105c0-cb2e-41e5-8acb-170dbba3cf88",
   "metadata": {},
   "outputs": [
    {
     "name": "stdout",
     "output_type": "stream",
     "text": [
      "Variable1:  6\n",
      "Result is an even number\n",
      "Product is:  None\n"
     ]
    },
    {
     "ename": "NameError",
     "evalue": "name 'local_result' is not defined",
     "output_type": "error",
     "traceback": [
      "\u001b[0;31m---------------------------------------------------------------------------\u001b[0m",
      "\u001b[0;31mNameError\u001b[0m                                 Traceback (most recent call last)",
      "Cell \u001b[0;32mIn[141], line 21\u001b[0m\n\u001b[1;32m     17\u001b[0m product \u001b[38;5;241m=\u001b[39m multiply(\u001b[38;5;241m2\u001b[39m, \u001b[38;5;241m10\u001b[39m)\n\u001b[1;32m     19\u001b[0m \u001b[38;5;28mprint\u001b[39m(\u001b[38;5;124m\"\u001b[39m\u001b[38;5;124mProduct is: \u001b[39m\u001b[38;5;124m\"\u001b[39m, product)\n\u001b[0;32m---> 21\u001b[0m \u001b[38;5;28mprint\u001b[39m(\u001b[38;5;124m\"\u001b[39m\u001b[38;5;124mResult: \u001b[39m\u001b[38;5;124m\"\u001b[39m, \u001b[43mlocal_result\u001b[49m)\n",
      "\u001b[0;31mNameError\u001b[0m: name 'local_result' is not defined"
     ]
    }
   ],
   "source": [
    "#scope and lifetime of a variable\n",
    "def multiply (a, b):\n",
    "    \n",
    "    print(\"Variable1: \", var1)\n",
    "    \n",
    "    local_result = a*b\n",
    "\n",
    "    if (result%2 != 0):\n",
    "        return result\n",
    "    else:\n",
    "        print(\"Result is an even number\")\n",
    "        return None # by default a function returns 'None' \n",
    "\n",
    "\n",
    "var1 = 6 #global variable\n",
    "\n",
    "product = multiply(2, 10)\n",
    "\n",
    "print(\"Product is: \", product)\n",
    "\n",
    "print(\"Result: \", local_result)"
   ]
  },
  {
   "cell_type": "code",
   "execution_count": 139,
   "id": "d4532ab5-8b6b-4128-9777-255c22da8e43",
   "metadata": {},
   "outputs": [
    {
     "name": "stdout",
     "output_type": "stream",
     "text": [
      "Python is fantastic\n",
      "Python is awesome\n"
     ]
    }
   ],
   "source": [
    "x = \"awesome\"\n",
    "\n",
    "def myfunc():\n",
    "  x = \"fantastic\"\n",
    "  print(\"Python is \" + x)\n",
    "\n",
    "myfunc()\n",
    "\n",
    "print(\"Python is \" + x)"
   ]
  },
  {
   "cell_type": "code",
   "execution_count": 143,
   "id": "a46ca667-5f4c-46e6-8df2-8cfefc137bb9",
   "metadata": {},
   "outputs": [
    {
     "name": "stdout",
     "output_type": "stream",
     "text": [
      "Python is fantastic\n",
      "Python is fantastic\n"
     ]
    }
   ],
   "source": [
    "x = \"awesome\"\n",
    "\n",
    "def myfunc():\n",
    "  global x\n",
    "  x = \"fantastic\"\n",
    "  print(\"Python is \" + x)  \n",
    "\n",
    "myfunc()\n",
    "\n",
    "print(\"Python is \" + x)"
   ]
  },
  {
   "cell_type": "code",
   "execution_count": 145,
   "id": "957394eb-5d40-4d14-a151-c9ddacda25b1",
   "metadata": {},
   "outputs": [
    {
     "name": "stdout",
     "output_type": "stream",
     "text": [
      "A\n"
     ]
    }
   ],
   "source": [
    "#Function inside a function\n",
    "\n",
    "def grading(g1, g2):\n",
    "    \n",
    "    total = add_grades(g1, g2)\n",
    "    average = total/2\n",
    "\n",
    "    if average >= 50:\n",
    "        return 'A'\n",
    "    else:\n",
    "        return 'F'\n",
    "        \n",
    "\n",
    "def add_grades(m1, m2):\n",
    "    return m1+m2\n",
    "\n",
    "stud1 = grading(100,45)\n",
    "\n",
    "print(stud1)\n"
   ]
  },
  {
   "cell_type": "code",
   "execution_count": 148,
   "id": "83650f26-d40a-44d2-9511-bc51635096f3",
   "metadata": {},
   "outputs": [
    {
     "name": "stdout",
     "output_type": "stream",
     "text": [
      "8\n",
      "13\n"
     ]
    }
   ],
   "source": [
    "# Examples of  lambda functions\n",
    "add = lambda x, y: x + y\n",
    "print(add(3, 5))  # Output: 8\n",
    "\n",
    "\n",
    "x = lambda a, b, c : a + b + c\n",
    "print(x(5, 6, 2))"
   ]
  },
  {
   "cell_type": "code",
   "execution_count": 149,
   "id": "ee42335d-0e9b-47a5-add5-74985008213a",
   "metadata": {},
   "outputs": [
    {
     "name": "stdout",
     "output_type": "stream",
     "text": [
      "120\n"
     ]
    }
   ],
   "source": [
    "#recursion\n",
    "\n",
    "def factorial(n):\n",
    "    if n == 0:            # Base case\n",
    "        return 1\n",
    "    else:                 # Recursive case\n",
    "        return n * factorial(n - 1)\n",
    "\n",
    "print(factorial(5))"
   ]
  },
  {
   "cell_type": "code",
   "execution_count": null,
   "id": "35e5b2cd-c6e0-4aff-9856-da109bd5b345",
   "metadata": {},
   "outputs": [],
   "source": []
  }
 ],
 "metadata": {
  "kernelspec": {
   "display_name": "Python 3 (ipykernel)",
   "language": "python",
   "name": "python3"
  },
  "language_info": {
   "codemirror_mode": {
    "name": "ipython",
    "version": 3
   },
   "file_extension": ".py",
   "mimetype": "text/x-python",
   "name": "python",
   "nbconvert_exporter": "python",
   "pygments_lexer": "ipython3",
   "version": "3.12.2"
  }
 },
 "nbformat": 4,
 "nbformat_minor": 5
}
