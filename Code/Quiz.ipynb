{
 "cells": [
  {
   "cell_type": "code",
   "execution_count": null,
   "id": "e3ad6477-2971-4d44-bc08-97eb968629e8",
   "metadata": {},
   "outputs": [],
   "source": [
    "#I have deleted some parts of the code. You need to it fix"
   ]
  },
  {
   "cell_type": "code",
   "execution_count": 1,
   "id": "5f746554-dd5a-4f64-b728-d70ea785f9b1",
   "metadata": {},
   "outputs": [
    {
     "ename": "AttributeError",
     "evalue": "'Robot' object has no attribute 'is_destroyed'",
     "output_type": "error",
     "traceback": [
      "\u001b[0;31m---------------------------------------------------------------------------\u001b[0m",
      "\u001b[0;31mAttributeError\u001b[0m                            Traceback (most recent call last)",
      "Cell \u001b[0;32mIn[1], line 45\u001b[0m\n\u001b[1;32m     41\u001b[0m robotA \u001b[38;5;241m=\u001b[39m Robot(\u001b[38;5;124m\"\u001b[39m\u001b[38;5;124mRobot A\u001b[39m\u001b[38;5;124m\"\u001b[39m)\n\u001b[1;32m     44\u001b[0m \u001b[38;5;66;03m# Game loop\u001b[39;00m\n\u001b[0;32m---> 45\u001b[0m \u001b[38;5;28;01mwhile\u001b[39;00m \u001b[43mrobotA\u001b[49m\u001b[38;5;241;43m.\u001b[39;49m\u001b[43mis_active\u001b[49m\u001b[43m(\u001b[49m\u001b[43m)\u001b[49m \u001b[38;5;129;01mand\u001b[39;00m robotB\u001b[38;5;241m.\u001b[39mis_active():\n\u001b[1;32m     46\u001b[0m     \u001b[38;5;28mprint\u001b[39m(\u001b[38;5;124m\"\u001b[39m\u001b[38;5;130;01m\\n\u001b[39;00m\u001b[38;5;124mCurrent Positions:\u001b[39m\u001b[38;5;124m\"\u001b[39m)\n\u001b[1;32m     47\u001b[0m     \u001b[38;5;28mprint\u001b[39m(\u001b[38;5;124mf\u001b[39m\u001b[38;5;124m\"\u001b[39m\u001b[38;5;132;01m{\u001b[39;00mrobotA\u001b[38;5;241m.\u001b[39mname\u001b[38;5;132;01m}\u001b[39;00m\u001b[38;5;124m: \u001b[39m\u001b[38;5;132;01m{\u001b[39;00mrobotA\u001b[38;5;241m.\u001b[39mposition()\u001b[38;5;132;01m}\u001b[39;00m\u001b[38;5;124m\"\u001b[39m)\n",
      "Cell \u001b[0;32mIn[1], line 37\u001b[0m, in \u001b[0;36mRobot.is_active\u001b[0;34m(self)\u001b[0m\n\u001b[1;32m     36\u001b[0m \u001b[38;5;28;01mdef\u001b[39;00m \u001b[38;5;21mis_active\u001b[39m(\u001b[38;5;28mself\u001b[39m):\n\u001b[0;32m---> 37\u001b[0m     \u001b[38;5;28;01mreturn\u001b[39;00m \u001b[38;5;129;01mnot\u001b[39;00m \u001b[38;5;28;43mself\u001b[39;49m\u001b[38;5;241;43m.\u001b[39;49m\u001b[43mis_destroyed\u001b[49m\n",
      "\u001b[0;31mAttributeError\u001b[0m: 'Robot' object has no attribute 'is_destroyed'"
     ]
    }
   ],
   "source": [
    "import random\n",
    "\n",
    "class Robot:\n",
    "    def __init__(self, name):\n",
    "        self.name = name\n",
    "        self.x = 0  # Random initial position on 4x4 grid\n",
    "        self.y = 0\n",
    "    \n",
    "\n",
    "    def move(self):\n",
    "        direction = random.choice(['up', 'down', 'left', 'right'])\n",
    "        if direction == 'up' and self.y < 3:\n",
    "            self.y += 1\n",
    "        elif direction == 'down' and self.y > 0:\n",
    "            self.y -= 1\n",
    "        elif direction == 'left' and self.x > 0:\n",
    "            self.x -= 1\n",
    "        \n",
    "\n",
    "    def position(self):\n",
    "        return (self.x, self.y)\n",
    "\n",
    "    def battle(self, other_robot):\n",
    "        if self.position() == other_robot.position():\n",
    "            self_number = random.randint(1, 10)\n",
    "            other_number = random.randint(1, 10)\n",
    "            print(f\"{self.name} vs {other_robot.name}:\")\n",
    "            print(f\"{self.name} rolls {self_number}, {other_robot.name} rolls {other_number}\")\n",
    "            if self_number > other_number:\n",
    "                print(f\"{self.name} wins!\")\n",
    "                other_robot.is_destroyed = True\n",
    "            \n",
    "            else:\n",
    "                print(\"It's a tie!\")\n",
    "    \n",
    "    def is_active(self):\n",
    "        return not self.is_destroyed\n",
    "\n",
    "\n",
    "# Initialize robots\n",
    "robotA = Robot(\"Robot A\")\n",
    "\n",
    "\n",
    "# Game loop\n",
    "while robotA.is_active() and robotB.is_active():\n",
    "    print(\"\\nCurrent Positions:\")\n",
    "    print(f\"{robotA.name}: {robotA.position()}\")\n",
    "    print(f\"{robotB.name}: {robotB.position()}\")\n",
    "\n",
    "    # Robots move\n",
    "    robotA.move()\n",
    "    robotB.move()\n",
    "\n",
    "    # Check if they battle\n",
    "    robotA.battle(robotB)\n",
    "\n",
    "# Game over\n",
    "if robotA.is_active():\n",
    "    print(f\"\\n{robotA.name} wins! {robotB.name} is destroyed.\")\n",
    "else:\n",
    "    print(f\"\\n{robotB.name} wins! {robotA.name} is destroyed.\")\n"
   ]
  },
  {
   "cell_type": "code",
   "execution_count": 2,
   "id": "798db2f2-7e1d-47af-845c-4ac8466b1edd",
   "metadata": {},
   "outputs": [
    {
     "name": "stdout",
     "output_type": "stream",
     "text": [
      "Initial grid:\n",
      "---------------------\n",
      "| R |   |   |   |\n",
      "---------------------\n",
      "|   | X |   |   |\n",
      "---------------------\n",
      "|   |   | X |   |\n",
      "---------------------\n",
      "| X |   |   | 15 |\n",
      "---------------------\n",
      "\n",
      "Path taken by the robot:\n",
      "---------------------\n",
      "| R |   |   |   |\n",
      "---------------------\n",
      "| → | X |   |   |\n",
      "---------------------\n",
      "| → | → | X |   |\n",
      "---------------------\n",
      "| X | → | → | → |\n",
      "---------------------\n",
      "\n",
      "Final path:\n",
      "(Robot A starts at (0, 0))\n",
      "→ (0, 0) → (0, 1) → (0, 2) → (1, 2) → (1, 3) → (2, 3) Robot A reaches (3, 3) (15)\n"
     ]
    }
   ],
   "source": []
  },
  {
   "cell_type": "code",
   "execution_count": null,
   "id": "e6c283ec-cd1d-47d2-8c6a-bae11c4ecd8d",
   "metadata": {},
   "outputs": [],
   "source": []
  }
 ],
 "metadata": {
  "kernelspec": {
   "display_name": "Python 3 (ipykernel)",
   "language": "python",
   "name": "python3"
  },
  "language_info": {
   "codemirror_mode": {
    "name": "ipython",
    "version": 3
   },
   "file_extension": ".py",
   "mimetype": "text/x-python",
   "name": "python",
   "nbconvert_exporter": "python",
   "pygments_lexer": "ipython3",
   "version": "3.12.2"
  }
 },
 "nbformat": 4,
 "nbformat_minor": 5
}
