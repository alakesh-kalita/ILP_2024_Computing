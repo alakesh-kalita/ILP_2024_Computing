{
 "cells": [
  {
   "cell_type": "code",
   "execution_count": 60,
   "id": "19d28c40-6b15-4ef9-b662-46dcdadefc06",
   "metadata": {},
   "outputs": [
    {
     "name": "stdout",
     "output_type": "stream",
     "text": [
      "P\n",
      "n\n"
     ]
    }
   ],
   "source": [
    "#String in Pyhton\n",
    "\n",
    "str = \"Python\"\n",
    "print(str[0])    # Output: P\n",
    "print(str[-1])   # Output: n"
   ]
  },
  {
   "cell_type": "code",
   "execution_count": 61,
   "id": "bb81a6db-7ac3-4c34-8861-a930e7050bb6",
   "metadata": {},
   "outputs": [
    {
     "name": "stdout",
     "output_type": "stream",
     "text": [
      "Python Programming\n",
      "   python programming   \n",
      "['Python', 'Programming']\n",
      "   Java Programming   \n"
     ]
    }
   ],
   "source": [
    "str = \"   Python Programming   \"\n",
    "print(str.strip())          \n",
    "print(str.lower())         \n",
    "print(str.split())           \n",
    "print(str.replace(\"Python\", \"Java\"))   "
   ]
  },
  {
   "cell_type": "code",
   "execution_count": 71,
   "id": "b9f1580e-20be-4b5a-96ff-10814bd7f1f8",
   "metadata": {},
   "outputs": [
    {
     "name": "stdout",
     "output_type": "stream",
     "text": [
      "Pytho\n",
      "PythonProgramming\n",
      "Python Programming\n",
      "0 P\n",
      "1 y\n",
      "2 t\n",
      "3 h\n",
      "4 o\n",
      "5 n\n"
     ]
    }
   ],
   "source": [
    "str1 = \"Python\"\n",
    "str2 = \"Programming\"\n",
    "\n",
    "print(str1[:5])\n",
    "\n",
    "print(str1 + str2)\n",
    "\n",
    "print(str1 + \" \" + str2)\n",
    "\n",
    "for index, character in enumerate(str1):\n",
    "    print(index, character)"
   ]
  },
  {
   "cell_type": "code",
   "execution_count": 69,
   "id": "f8c023f0-be4c-4a99-b290-e78e24367248",
   "metadata": {},
   "outputs": [
    {
     "name": "stdout",
     "output_type": "stream",
     "text": [
      "My name is John, and I am 23\n"
     ]
    }
   ],
   "source": [
    "age = 23\n",
    "txt = \"My name is John, and I am {}\"\n",
    "print(txt.format(age))"
   ]
  },
  {
   "cell_type": "code",
   "execution_count": 75,
   "id": "4e175654-bc9c-4228-80ad-c31e9b5cbf60",
   "metadata": {},
   "outputs": [
    {
     "name": "stdout",
     "output_type": "stream",
     "text": [
      "The string contains non-letter characters.\n",
      "The string contains non-digit characters.\n",
      "All characters in the string are alphanumeric.\n",
      "\n",
      "\n",
      "All characters in the string are letters.\n",
      "The string contains non-digit characters.\n",
      "All characters in the string are alphanumeric.\n"
     ]
    }
   ],
   "source": [
    "def check_character_types(string):\n",
    "    # Check if all characters are letters\n",
    "    if string.isalpha():\n",
    "        print(\"All characters in the string are letters.\")\n",
    "    else:\n",
    "        print(\"The string contains non-letter characters.\")\n",
    "\n",
    "    # Check if all characters are digits\n",
    "    if string.isdigit():\n",
    "        print(\"All characters in the string are digits.\")\n",
    "    else:\n",
    "        print(\"The string contains non-digit characters.\")\n",
    "\n",
    "    # Check if all characters are alphanumeric (letters or digits)\n",
    "    if string.isalnum():\n",
    "        print(\"All characters in the string are alphanumeric.\")\n",
    "    else:\n",
    "        print(\"The string contains non-alphanumeric characters.\")\n",
    "\n",
    "# Test the function with a sample string\n",
    "sample_string = \"Hello123\"\n",
    "check_character_types(sample_string)\n",
    "\n",
    "print(\"\\n\")\n",
    "sample_string = \"AnotherTestCase\"\n",
    "check_character_types(sample_string)\n"
   ]
  },
  {
   "cell_type": "code",
   "execution_count": 82,
   "id": "f93b6d0d-b094-4745-b1e3-da7af1b8d669",
   "metadata": {},
   "outputs": [
    {
     "name": "stdin",
     "output_type": "stream",
     "text": [
      "Do you want to add a user? (yes/no):  alakesh\n"
     ]
    },
    {
     "name": "stdout",
     "output_type": "stream",
     "text": [
      "Invalid choice. Please enter 'yes' or 'no'.\n"
     ]
    },
    {
     "name": "stdin",
     "output_type": "stream",
     "text": [
      "Do you want to add a user? (yes/no):  yes\n",
      "Enter username:  alakesh\n",
      "Enter password:  34wewewewewq\n"
     ]
    },
    {
     "name": "stdout",
     "output_type": "stream",
     "text": [
      "12\n"
     ]
    },
    {
     "name": "stdin",
     "output_type": "stream",
     "text": [
      "Enter a hint message:  random\n"
     ]
    },
    {
     "name": "stdout",
     "output_type": "stream",
     "text": [
      "User added successfully!\n"
     ]
    },
    {
     "name": "stdin",
     "output_type": "stream",
     "text": [
      "Do you want to add a user? (yes/no):  yes\n",
      "Enter username:  alakesh\n",
      "Enter password:  dfsfsfsfs45\n"
     ]
    },
    {
     "name": "stdout",
     "output_type": "stream",
     "text": [
      "User already exists. Hint: ('34wewewewewq', 'random')\n"
     ]
    },
    {
     "ename": "KeyboardInterrupt",
     "evalue": "Interrupted by user",
     "output_type": "error",
     "traceback": [
      "\u001b[0;31m---------------------------------------------------------------------------\u001b[0m",
      "\u001b[0;31mKeyboardInterrupt\u001b[0m                         Traceback (most recent call last)",
      "Cell \u001b[0;32mIn[82], line 37\u001b[0m\n\u001b[1;32m     35\u001b[0m \u001b[38;5;66;03m# Main program loop\u001b[39;00m\n\u001b[1;32m     36\u001b[0m \u001b[38;5;28;01mwhile\u001b[39;00m \u001b[38;5;28;01mTrue\u001b[39;00m:\n\u001b[0;32m---> 37\u001b[0m     choice \u001b[38;5;241m=\u001b[39m \u001b[38;5;28;43minput\u001b[39;49m\u001b[43m(\u001b[49m\u001b[38;5;124;43m\"\u001b[39;49m\u001b[38;5;124;43mDo you want to add a user? (yes/no): \u001b[39;49m\u001b[38;5;124;43m\"\u001b[39;49m\u001b[43m)\u001b[49m\u001b[38;5;241m.\u001b[39mlower()\n\u001b[1;32m     38\u001b[0m     \u001b[38;5;28;01mif\u001b[39;00m choice \u001b[38;5;241m==\u001b[39m \u001b[38;5;124m\"\u001b[39m\u001b[38;5;124myes\u001b[39m\u001b[38;5;124m\"\u001b[39m:\n\u001b[1;32m     39\u001b[0m         add_user(users)\n",
      "File \u001b[0;32m/Library/Frameworks/Python.framework/Versions/3.12/lib/python3.12/site-packages/ipykernel/kernelbase.py:1282\u001b[0m, in \u001b[0;36mKernel.raw_input\u001b[0;34m(self, prompt)\u001b[0m\n\u001b[1;32m   1280\u001b[0m     msg \u001b[38;5;241m=\u001b[39m \u001b[38;5;124m\"\u001b[39m\u001b[38;5;124mraw_input was called, but this frontend does not support input requests.\u001b[39m\u001b[38;5;124m\"\u001b[39m\n\u001b[1;32m   1281\u001b[0m     \u001b[38;5;28;01mraise\u001b[39;00m StdinNotImplementedError(msg)\n\u001b[0;32m-> 1282\u001b[0m \u001b[38;5;28;01mreturn\u001b[39;00m \u001b[38;5;28;43mself\u001b[39;49m\u001b[38;5;241;43m.\u001b[39;49m\u001b[43m_input_request\u001b[49m\u001b[43m(\u001b[49m\n\u001b[1;32m   1283\u001b[0m \u001b[43m    \u001b[49m\u001b[38;5;28;43mstr\u001b[39;49m\u001b[43m(\u001b[49m\u001b[43mprompt\u001b[49m\u001b[43m)\u001b[49m\u001b[43m,\u001b[49m\n\u001b[1;32m   1284\u001b[0m \u001b[43m    \u001b[49m\u001b[38;5;28;43mself\u001b[39;49m\u001b[38;5;241;43m.\u001b[39;49m\u001b[43m_parent_ident\u001b[49m\u001b[43m[\u001b[49m\u001b[38;5;124;43m\"\u001b[39;49m\u001b[38;5;124;43mshell\u001b[39;49m\u001b[38;5;124;43m\"\u001b[39;49m\u001b[43m]\u001b[49m\u001b[43m,\u001b[49m\n\u001b[1;32m   1285\u001b[0m \u001b[43m    \u001b[49m\u001b[38;5;28;43mself\u001b[39;49m\u001b[38;5;241;43m.\u001b[39;49m\u001b[43mget_parent\u001b[49m\u001b[43m(\u001b[49m\u001b[38;5;124;43m\"\u001b[39;49m\u001b[38;5;124;43mshell\u001b[39;49m\u001b[38;5;124;43m\"\u001b[39;49m\u001b[43m)\u001b[49m\u001b[43m,\u001b[49m\n\u001b[1;32m   1286\u001b[0m \u001b[43m    \u001b[49m\u001b[43mpassword\u001b[49m\u001b[38;5;241;43m=\u001b[39;49m\u001b[38;5;28;43;01mFalse\u001b[39;49;00m\u001b[43m,\u001b[49m\n\u001b[1;32m   1287\u001b[0m \u001b[43m\u001b[49m\u001b[43m)\u001b[49m\n",
      "File \u001b[0;32m/Library/Frameworks/Python.framework/Versions/3.12/lib/python3.12/site-packages/ipykernel/kernelbase.py:1325\u001b[0m, in \u001b[0;36mKernel._input_request\u001b[0;34m(self, prompt, ident, parent, password)\u001b[0m\n\u001b[1;32m   1322\u001b[0m \u001b[38;5;28;01mexcept\u001b[39;00m \u001b[38;5;167;01mKeyboardInterrupt\u001b[39;00m:\n\u001b[1;32m   1323\u001b[0m     \u001b[38;5;66;03m# re-raise KeyboardInterrupt, to truncate traceback\u001b[39;00m\n\u001b[1;32m   1324\u001b[0m     msg \u001b[38;5;241m=\u001b[39m \u001b[38;5;124m\"\u001b[39m\u001b[38;5;124mInterrupted by user\u001b[39m\u001b[38;5;124m\"\u001b[39m\n\u001b[0;32m-> 1325\u001b[0m     \u001b[38;5;28;01mraise\u001b[39;00m \u001b[38;5;167;01mKeyboardInterrupt\u001b[39;00m(msg) \u001b[38;5;28;01mfrom\u001b[39;00m \u001b[38;5;28;01mNone\u001b[39;00m\n\u001b[1;32m   1326\u001b[0m \u001b[38;5;28;01mexcept\u001b[39;00m \u001b[38;5;167;01mException\u001b[39;00m:\n\u001b[1;32m   1327\u001b[0m     \u001b[38;5;28mself\u001b[39m\u001b[38;5;241m.\u001b[39mlog\u001b[38;5;241m.\u001b[39mwarning(\u001b[38;5;124m\"\u001b[39m\u001b[38;5;124mInvalid Message:\u001b[39m\u001b[38;5;124m\"\u001b[39m, exc_info\u001b[38;5;241m=\u001b[39m\u001b[38;5;28;01mTrue\u001b[39;00m)\n",
      "\u001b[0;31mKeyboardInterrupt\u001b[0m: Interrupted by user"
     ]
    }
   ],
   "source": [
    "def validate_password(password):\n",
    "    # Check if password length is at least 9 characters\n",
    "    print(len(password))\n",
    "    if len(password) < 9:\n",
    "        return False\n",
    "    # Check if password contains at least one alphabet and one number\n",
    "    has_alpha = False\n",
    "    has_digit = False\n",
    "    if not password.isalpha():\n",
    "        has_alpha = True\n",
    "    if not password.isdigit():\n",
    "        has_digit = True\n",
    "    if has_alpha and has_digit:\n",
    "        return True\n",
    "    else:    \n",
    "        return False\n",
    "\n",
    "def add_user(users_dict):\n",
    "    username = input(\"Enter username: \")\n",
    "    password = input(\"Enter password: \")\n",
    "    \n",
    "    if username in users_dict:\n",
    "        print(\"User already exists. Hint:\", users_dict[username])\n",
    "    else:\n",
    "        if validate_password(password):\n",
    "            hint_msg = input(\"Enter a hint message: \")\n",
    "            users_dict[username] = (password, hint_msg)\n",
    "            print(\"User added successfully!\")\n",
    "        else:\n",
    "            print(\"Invalid password. Password should be minimum 9 characters long and should contain at least one alphabet and one number.\")\n",
    "\n",
    "# Dictionary to store users and passwords\n",
    "users = {}\n",
    "\n",
    "# Main program loop\n",
    "while True:\n",
    "    choice = input(\"Do you want to add a user? (yes/no): \").lower()\n",
    "    if choice == \"yes\":\n",
    "        add_user(users)\n",
    "    elif choice == \"no\":\n",
    "        break\n",
    "    else:\n",
    "        print(\"Invalid choice. Please enter 'yes' or 'no'.\")\n",
    "\n",
    "# Print the users dictionary\n",
    "print(\"User dictionary:\")\n",
    "print(users)\n"
   ]
  },
  {
   "cell_type": "code",
   "execution_count": 65,
   "id": "e5412312-ba14-4952-aefb-b17660442370",
   "metadata": {},
   "outputs": [
    {
     "name": "stdout",
     "output_type": "stream",
     "text": [
      "<class 'tuple'> \n",
      "\n",
      "First element: 1\n",
      "Second element: 2\n",
      "Last element: 5\n",
      "Slicing example: (3, 4, 5)\n"
     ]
    },
    {
     "ename": "AttributeError",
     "evalue": "'tuple' object has no attribute 'append'",
     "output_type": "error",
     "traceback": [
      "\u001b[0;31m---------------------------------------------------------------------------\u001b[0m",
      "\u001b[0;31mAttributeError\u001b[0m                            Traceback (most recent call last)",
      "Cell \u001b[0;32mIn[65], line 15\u001b[0m\n\u001b[1;32m     11\u001b[0m \u001b[38;5;28mprint\u001b[39m(\u001b[38;5;124m\"\u001b[39m\u001b[38;5;124mLast element:\u001b[39m\u001b[38;5;124m\"\u001b[39m, my_tuple[\u001b[38;5;241m-\u001b[39m\u001b[38;5;241m1\u001b[39m])\n\u001b[1;32m     13\u001b[0m \u001b[38;5;28mprint\u001b[39m(\u001b[38;5;124m\"\u001b[39m\u001b[38;5;124mSlicing example:\u001b[39m\u001b[38;5;124m\"\u001b[39m, my_tuple[\u001b[38;5;241m2\u001b[39m:\u001b[38;5;241m5\u001b[39m])\n\u001b[0;32m---> 15\u001b[0m \u001b[43mmy_tuple\u001b[49m\u001b[38;5;241;43m.\u001b[39;49m\u001b[43mappend\u001b[49m(\u001b[38;5;241m6\u001b[39m)\n",
      "\u001b[0;31mAttributeError\u001b[0m: 'tuple' object has no attribute 'append'"
     ]
    }
   ],
   "source": [
    "# Tuple in Python\n",
    "\n",
    "# Creating a tuple\n",
    "my_tuple = (1, 2, 3, 4, 5)\n",
    "\n",
    "print(type(my_tuple),\"\\n\")\n",
    "\n",
    "# Accessing tuple elements\n",
    "print(\"First element:\", my_tuple[0])\n",
    "print(\"Second element:\", my_tuple[1])\n",
    "print(\"Last element:\", my_tuple[-1])\n",
    "\n",
    "print(\"Slicing example:\", my_tuple[2:5])\n",
    "\n",
    "my_tuple.append(6)"
   ]
  },
  {
   "cell_type": "code",
   "execution_count": 16,
   "id": "03b40984-b934-4e21-bcd1-7834be701279",
   "metadata": {},
   "outputs": [
    {
     "name": "stdout",
     "output_type": "stream",
     "text": [
      " Tuple: (1, 2, 4, 3)\n"
     ]
    }
   ],
   "source": [
    "#Updating Tuple\n",
    "\n",
    "# Original tuple\n",
    "my_tuple = (1, 2, 3)\n",
    "\n",
    "\n",
    "# Desired update: Change the second element to 4\n",
    "my_tuple = my_tuple[:2] + (4,) + my_tuple[2:]\n",
    "\n",
    "print(\" Tuple:\", my_tuple)\n",
    "\n"
   ]
  },
  {
   "cell_type": "code",
   "execution_count": 18,
   "id": "5a9befbb-39ec-457b-a978-a0c20070ca66",
   "metadata": {},
   "outputs": [
    {
     "name": "stdout",
     "output_type": "stream",
     "text": [
      "apple\n",
      "banana\n",
      "cherry\n"
     ]
    }
   ],
   "source": [
    "#Unpacking a tuple:\n",
    "\n",
    "fruits = (\"apple\", \"banana\", \"cherry\")\n",
    "\n",
    "(green, yellow, red) = fruits\n",
    "\n",
    "print(green)\n",
    "print(yellow)\n",
    "print(red)"
   ]
  },
  {
   "cell_type": "code",
   "execution_count": 19,
   "id": "f62e4e36-d9fa-4ad2-8a32-eea610859670",
   "metadata": {},
   "outputs": [
    {
     "ename": "ValueError",
     "evalue": "too many values to unpack (expected 3)",
     "output_type": "error",
     "traceback": [
      "\u001b[0;31m---------------------------------------------------------------------------\u001b[0m",
      "\u001b[0;31mValueError\u001b[0m                                Traceback (most recent call last)",
      "Cell \u001b[0;32mIn[19], line 5\u001b[0m\n\u001b[1;32m      1\u001b[0m \u001b[38;5;66;03m#Unpacking a tuple:\u001b[39;00m\n\u001b[1;32m      3\u001b[0m fruits \u001b[38;5;241m=\u001b[39m (\u001b[38;5;124m\"\u001b[39m\u001b[38;5;124mapple\u001b[39m\u001b[38;5;124m\"\u001b[39m, \u001b[38;5;124m\"\u001b[39m\u001b[38;5;124mbanana\u001b[39m\u001b[38;5;124m\"\u001b[39m, \u001b[38;5;124m\"\u001b[39m\u001b[38;5;124mcherry\u001b[39m\u001b[38;5;124m\"\u001b[39m, \u001b[38;5;124m\"\u001b[39m\u001b[38;5;124mmango\u001b[39m\u001b[38;5;124m\"\u001b[39m)\n\u001b[0;32m----> 5\u001b[0m (green, yellow, red) \u001b[38;5;241m=\u001b[39m fruits\n\u001b[1;32m      7\u001b[0m \u001b[38;5;28mprint\u001b[39m(green)\n\u001b[1;32m      8\u001b[0m \u001b[38;5;28mprint\u001b[39m(yellow)\n",
      "\u001b[0;31mValueError\u001b[0m: too many values to unpack (expected 3)"
     ]
    }
   ],
   "source": [
    "#Unpacking a tuple:\n",
    "\n",
    "fruits = (\"apple\", \"banana\", \"cherry\", \"mango\")\n",
    "\n",
    "(green, yellow, red) = fruits\n",
    "\n",
    "print(green)\n",
    "print(yellow)\n",
    "print(red)"
   ]
  },
  {
   "cell_type": "code",
   "execution_count": 20,
   "id": "9a27fe65-7948-4ec7-8c05-bc92e9b37f21",
   "metadata": {},
   "outputs": [
    {
     "ename": "ValueError",
     "evalue": "not enough values to unpack (expected 4, got 3)",
     "output_type": "error",
     "traceback": [
      "\u001b[0;31m---------------------------------------------------------------------------\u001b[0m",
      "\u001b[0;31mValueError\u001b[0m                                Traceback (most recent call last)",
      "Cell \u001b[0;32mIn[20], line 5\u001b[0m\n\u001b[1;32m      1\u001b[0m \u001b[38;5;66;03m#Unpacking a tuple:\u001b[39;00m\n\u001b[1;32m      3\u001b[0m fruits \u001b[38;5;241m=\u001b[39m (\u001b[38;5;124m\"\u001b[39m\u001b[38;5;124mapple\u001b[39m\u001b[38;5;124m\"\u001b[39m, \u001b[38;5;124m\"\u001b[39m\u001b[38;5;124mbanana\u001b[39m\u001b[38;5;124m\"\u001b[39m, \u001b[38;5;124m\"\u001b[39m\u001b[38;5;124mcherry\u001b[39m\u001b[38;5;124m\"\u001b[39m)\n\u001b[0;32m----> 5\u001b[0m (green, yellow, red, black) \u001b[38;5;241m=\u001b[39m fruits\n\u001b[1;32m      7\u001b[0m \u001b[38;5;28mprint\u001b[39m(green)\n\u001b[1;32m      8\u001b[0m \u001b[38;5;28mprint\u001b[39m(yellow)\n",
      "\u001b[0;31mValueError\u001b[0m: not enough values to unpack (expected 4, got 3)"
     ]
    }
   ],
   "source": [
    "#Unpacking a tuple:\n",
    "\n",
    "fruits = (\"apple\", \"banana\", \"cherry\")\n",
    "\n",
    "(green, yellow, red, black) = fruits\n",
    "\n",
    "print(green)\n",
    "print(yellow)\n",
    "print(red)"
   ]
  },
  {
   "cell_type": "code",
   "execution_count": 22,
   "id": "d7dd860c-5792-4590-ab30-ed77803b4c4c",
   "metadata": {},
   "outputs": [
    {
     "name": "stdout",
     "output_type": "stream",
     "text": [
      "apple\n",
      "banana\n",
      "['cherry', 'strawberry', 'raspberry']\n",
      "<class 'list'>\n"
     ]
    }
   ],
   "source": [
    "#Solution for unpacking problem\n",
    "\n",
    "fruits = (\"apple\", \"banana\", \"cherry\", \"strawberry\", \"raspberry\")\n",
    "\n",
    "(green, yellow, *red) = fruits\n",
    "\n",
    "print(green)\n",
    "print(yellow)\n",
    "print(red)\n",
    "\n",
    "print(type(red))\n"
   ]
  },
  {
   "cell_type": "code",
   "execution_count": 25,
   "id": "7bbec5e6-59fb-414a-bf77-d5fa3a859d42",
   "metadata": {},
   "outputs": [
    {
     "name": "stdout",
     "output_type": "stream",
     "text": [
      "apple\n",
      "banana\n",
      "cherry\n",
      "strawberry\n",
      "raspberry\n",
      "\n",
      "-------Another method--------\n",
      "\n",
      "apple\n",
      "banana\n",
      "cherry\n",
      "strawberry\n",
      "raspberry\n"
     ]
    }
   ],
   "source": [
    "# Tuple iteration\n",
    "\n",
    "fruits = (\"apple\", \"banana\", \"cherry\", \"strawberry\", \"raspberry\")\n",
    "\n",
    "for i in fruits:\n",
    "    print(i)\n",
    "\n",
    "print(\"\\n-------Another method--------\\n\")\n",
    "for i in range(len(fruits)):\n",
    "    print(fruits[i])\n",
    "\n",
    "#Can you try using 'while' loop? Do it now :)\n"
   ]
  },
  {
   "cell_type": "code",
   "execution_count": 28,
   "id": "d7cf33ab-53df-4105-9494-4f78d48d7cf3",
   "metadata": {},
   "outputs": [
    {
     "name": "stdout",
     "output_type": "stream",
     "text": [
      "New Tuple \n",
      "\n",
      "('a', 'b', 'c', 1, 2, 3)\n",
      "\n",
      "------Another Operation ---------\n",
      "\n",
      "('a', 'b', 'c', 1, 2, 3, 'a', 'b', 'c', 1, 2, 3)\n"
     ]
    }
   ],
   "source": [
    "#Join/Concat/Merging \n",
    "\n",
    "tuple1 = (\"a\", \"b\" , \"c\")\n",
    "tuple2 = (1, 2, 3)\n",
    "\n",
    "tuple3 = tuple1 + tuple2\n",
    "print(\"New Tuple \\n\")\n",
    "print(tuple3)\n",
    "\n",
    "print(\"\\n------Another Operation ---------\\n\")\n",
    "\n",
    "tuple3 = tuple3*2\n",
    "print(tuple3)"
   ]
  },
  {
   "cell_type": "code",
   "execution_count": 29,
   "id": "0704fcd4-2e80-4833-813b-3b980fbc4e6d",
   "metadata": {},
   "outputs": [
    {
     "name": "stdout",
     "output_type": "stream",
     "text": [
      "1\n"
     ]
    }
   ],
   "source": [
    "my_tuple = (1, 2, 3, 4, 5, 6)\n",
    "\n",
    "min_val = min(my_tuple)\n",
    "\n",
    "print(min_val)"
   ]
  },
  {
   "cell_type": "code",
   "execution_count": 30,
   "id": "0d2f040b-6f08-4163-ad08-808e7a259f40",
   "metadata": {},
   "outputs": [
    {
     "name": "stdout",
     "output_type": "stream",
     "text": [
      "Concatenated Tuple: (1, 2, 3, 4, 5, 6)\n",
      "Repeated Tuple: (1, 2, 3, 1, 2, 3, 1, 2, 3)\n",
      "Membership Testing Result: True\n",
      "Indexing Result: 1\n",
      "Sliced Result: (2, 3)\n",
      "Length Result: 3\n",
      "Iterating Over Tuple:\n",
      "1\n",
      "2\n",
      "3\n",
      "Count Result: 2\n",
      "Unpacked Values: 1 2 3\n"
     ]
    }
   ],
   "source": [
    "# Concatenation\n",
    "concatenated_tuple = (1, 2, 3) + (4, 5, 6)\n",
    "print(\"Concatenated Tuple:\", concatenated_tuple)\n",
    "\n",
    "# Repetition\n",
    "repeated_tuple = (1, 2, 3) * 3\n",
    "print(\"Repeated Tuple:\", repeated_tuple)\n",
    "\n",
    "# Membership Testing\n",
    "membership_result = 2 in (1, 2, 3)\n",
    "print(\"Membership Testing Result:\", membership_result)\n",
    "\n",
    "# Indexing\n",
    "indexing_result = (1, 2, 3)[0]\n",
    "print(\"Indexing Result:\", indexing_result)\n",
    "\n",
    "# Slicing\n",
    "sliced_result = (1, 2, 3)[1:3]\n",
    "print(\"Sliced Result:\", sliced_result)\n",
    "\n",
    "# Length\n",
    "length_result = len((1, 2, 3))\n",
    "print(\"Length Result:\", length_result)\n",
    "\n",
    "# Iteration\n",
    "print(\"Iterating Over Tuple:\")\n",
    "my_tuple = (1, 2, 3)\n",
    "for item in my_tuple:\n",
    "    print(item)\n",
    "\n",
    "# Tuple Methods\n",
    "count_result = (1, 2, 2, 3).count(2)\n",
    "print(\"Count Result:\", count_result)\n",
    "\n",
    "# Packing and Unpacking\n",
    "packed_tuple = 1, 2, 3\n",
    "a, b, c = packed_tuple\n",
    "print(\"Unpacked Values:\", a, b, c)\n"
   ]
  },
  {
   "cell_type": "code",
   "execution_count": 33,
   "id": "00544d09-e9b7-4015-8fa8-c3e4f5181795",
   "metadata": {},
   "outputs": [
    {
     "ename": "KeyError",
     "evalue": "20",
     "output_type": "error",
     "traceback": [
      "\u001b[0;31m---------------------------------------------------------------------------\u001b[0m",
      "\u001b[0;31mKeyError\u001b[0m                                  Traceback (most recent call last)",
      "Cell \u001b[0;32mIn[33], line 10\u001b[0m\n\u001b[1;32m      7\u001b[0m my_set\u001b[38;5;241m.\u001b[39madd(\u001b[38;5;241m7\u001b[39m)\n\u001b[1;32m      9\u001b[0m \u001b[38;5;66;03m# Deleting Values from the Set\u001b[39;00m\n\u001b[0;32m---> 10\u001b[0m \u001b[43mmy_set\u001b[49m\u001b[38;5;241;43m.\u001b[39;49m\u001b[43mremove\u001b[49m\u001b[43m(\u001b[49m\u001b[38;5;241;43m20\u001b[39;49m\u001b[43m)\u001b[49m\n\u001b[1;32m     11\u001b[0m my_set\u001b[38;5;241m.\u001b[39mdiscard(\u001b[38;5;241m8\u001b[39m)  \u001b[38;5;66;03m# Safe deletion, won't raise error if element not present\u001b[39;00m\n\u001b[1;32m     13\u001b[0m popped_value \u001b[38;5;241m=\u001b[39m my_set\u001b[38;5;241m.\u001b[39mpop()  \u001b[38;5;66;03m# Removes and returns an arbitrary element\u001b[39;00m\n",
      "\u001b[0;31mKeyError\u001b[0m: 20"
     ]
    }
   ],
   "source": [
    "#Python Set\n",
    "# Defining a Set\n",
    "my_set = {1, 2, 3, 4, 5}\n",
    "\n",
    "# Adding Values to the Set\n",
    "my_set.add(6)\n",
    "my_set.add(7)\n",
    "\n",
    "# Deleting Values from the Set\n",
    "my_set.remove(3)\n",
    "my_set.discard(8)  # Safe deletion, won't raise error if element not present\n",
    "\n",
    "popped_value = my_set.pop()  # Removes and returns an arbitrary element\n",
    "\n",
    "# Iterating Over the Set\n",
    "print(\"Elements in the Set:\")\n",
    "for item in my_set:\n",
    "    print(item)\n",
    "\n",
    "my_set.add(2)"
   ]
  },
  {
   "cell_type": "code",
   "execution_count": 34,
   "id": "2af2c1b9-17b4-45d5-808f-7d6678c66c69",
   "metadata": {},
   "outputs": [
    {
     "name": "stdout",
     "output_type": "stream",
     "text": [
      "Set 1: {2, 4, 5, 6, 7, 8, 9, 10}\n",
      "Set 2: {8, 6, 7}\n",
      "Union Set: {2, 4, 5, 6, 7, 8}\n",
      "Intersection Set: {4, 5, 6, 7}\n",
      "Difference Set: {2}\n",
      "Symmetric Difference Set: {2, 8}\n",
      "Updated Set 1: {2, 4, 5, 6, 7, 8, 9, 10}\n",
      "Updated Set 2: {8, 6, 7}\n",
      "Set Comprehension Result: {0, 2, 4, 6, 8}\n",
      "Frozen Set: frozenset({1, 2, 3, 4, 5})\n"
     ]
    }
   ],
   "source": [
    "#Set operations\n",
    "set1 = {1, 2, 3, 4, 5}\n",
    "set2 = {4, 5, 6, 7, 8}\n",
    "\n",
    "# Adding Elements\n",
    "set1.add(6)\n",
    "set1.add(7)\n",
    "\n",
    "# Removing Elements\n",
    "set1.remove(3)\n",
    "set1.discard(8)\n",
    "popped_value = set1.pop()  # Removes and returns an arbitrary element\n",
    "\n",
    "# Set Operations\n",
    "union_set = set1.union(set2)\n",
    "intersection_set = set1.intersection(set2)\n",
    "difference_set = set1.difference(set2)\n",
    "symmetric_difference_set = set1.symmetric_difference(set2)\n",
    "\n",
    "# Updating Sets\n",
    "set1.update({8, 9, 10})\n",
    "set2.intersection_update({6, 7, 8})\n",
    "\n",
    "# Set Comprehension\n",
    "set3 = {x for x in range(10) if x % 2 == 0}\n",
    "# Frozen Sets\n",
    "frozen_set = frozenset([1, 2, 3, 4, 5])\n",
    "\n",
    "print(\"Set 1:\", set1)\n",
    "print(\"Set 2:\", set2)\n",
    "print(\"Union Set:\", union_set)\n",
    "print(\"Intersection Set:\", intersection_set)\n",
    "print(\"Difference Set:\", difference_set)\n",
    "print(\"Symmetric Difference Set:\", symmetric_difference_set)\n",
    "print(\"Updated Set 1:\", set1)\n",
    "print(\"Updated Set 2:\", set2)\n",
    "print(\"Set Comprehension Result:\", set3)\n",
    "print(\"Frozen Set:\", frozen_set)"
   ]
  },
  {
   "cell_type": "code",
   "execution_count": 39,
   "id": "5103b0d7-4721-4e8c-a942-a799d73b0bde",
   "metadata": {},
   "outputs": [
    {
     "name": "stdout",
     "output_type": "stream",
     "text": [
      "Bob's Grade: 70\n",
      "{'Alice': 85, 'Bob': 70, 'David': 80, 'Eve': 88, 'Frank': 90}\n"
     ]
    }
   ],
   "source": [
    "# Dictionary to store students' grades\n",
    "student_grades = {\n",
    "    'Alice': 85,\n",
    "    'Bob': 70,\n",
    "    'Charlie': 92,\n",
    "    'David': 78,\n",
    "    'Eve': 88\n",
    "}\n",
    "\n",
    "# Accessing a student's grade\n",
    "print(\"Bob's Grade:\", student_grades['Bob'])\n",
    "\n",
    "# Adding a new student\n",
    "student_grades['Frank'] = 90\n",
    "\n",
    "# Updating a student's grade\n",
    "student_grades['David'] = 80\n",
    "\n",
    "# Removing a student\n",
    "del student_grades['Charlie']\n",
    "\n",
    "print(student_grades)"
   ]
  },
  {
   "cell_type": "code",
   "execution_count": 59,
   "id": "0cea18f2-fca2-499a-83f0-35f7937e7491",
   "metadata": {},
   "outputs": [
    {
     "name": "stdout",
     "output_type": "stream",
     "text": [
      "Accessing Keys\n",
      "Alice\n",
      "Bob\n",
      "dict_keys(['Alice', 'Bob'])\n",
      "\n",
      " Accessing Values\n",
      "85\n",
      "70\n",
      "dict_values([85, 70])\n",
      "\n",
      " Accessing Keys and Values together\n",
      "Alice 85\n",
      "Bob 70\n"
     ]
    }
   ],
   "source": [
    "student_grades = {\n",
    "    'Alice': 85,\n",
    "    'Bob': 70,\n",
    "}\n",
    "print(\"Accessing Keys\")\n",
    "for my_key in student_grades:\n",
    "    print(my_key)\n",
    "\n",
    "keys = student_grades.keys()\n",
    "print(keys)\n",
    "\n",
    "print(\"\\n Accessing Values\")\n",
    "for my_values in student_grades.values():\n",
    "    print(my_values)\n",
    "\n",
    "vals = student_grades.values()\n",
    "print(vals)\n",
    "\n",
    "print(\"\\n Accessing Keys and Values together\")\n",
    "for keys, values in student_grades.items():\n",
    "  print(keys, values)"
   ]
  },
  {
   "cell_type": "code",
   "execution_count": 56,
   "id": "6dea6e22-cc2b-45c0-9018-12ba15ae8009",
   "metadata": {},
   "outputs": [
    {
     "name": "stdout",
     "output_type": "stream",
     "text": [
      "Name: Alice\n",
      "Age: 30\n",
      "City: New York\n",
      "\n",
      "After Changing Age:\n",
      "Age: 31\n",
      "\n",
      "After Adding Gender:\n",
      "Gender: Female\n",
      "\n",
      "After Deleting City:\n",
      "City: City not found\n"
     ]
    }
   ],
   "source": [
    "# Dictionary containing information about a person\n",
    "person = {\n",
    "    'name': 'Alice',\n",
    "    'age': 30,\n",
    "    'city': 'New York'\n",
    "}\n",
    "\n",
    "# Accessing elements\n",
    "print(\"Name:\", person['name'])\n",
    "print(\"Age:\", person['age'])\n",
    "print(\"City:\", person['city'])\n",
    "\n",
    "# Changing an element\n",
    "person['age'] = 31\n",
    "print(\"\\nAfter Changing Age:\")\n",
    "print(\"Age:\", person['age'])\n",
    "\n",
    "# Adding a new element\n",
    "person['gender'] = 'Female'\n",
    "print(\"\\nAfter Adding Gender:\")\n",
    "print(\"Gender:\", person['gender'])\n",
    "\n",
    "# Deleting an element\n",
    "del person['city']\n",
    "print(\"\\nAfter Deleting City:\")\n",
    "print(\"City:\", person.get('city', 'City not found'))  # Using get() to handle KeyError\n"
   ]
  },
  {
   "cell_type": "code",
   "execution_count": 92,
   "id": "19537183-c371-430f-a0e1-2e2e6ca68cae",
   "metadata": {},
   "outputs": [
    {
     "name": "stdout",
     "output_type": "stream",
     "text": [
      "Keys:\n",
      "Alice\n",
      "Bob\n",
      "Charlie\n",
      "\n",
      "Values:\n",
      "{'age': 20, 'grade': 'A'}\n",
      "{'age': 21, 'grade': 'B'}\n",
      "{'age': 19, 'grade': 'C'}\n",
      "\n",
      "Key-Value Pairs:\n",
      "Name: Alice, Details: {'age': 20, 'grade': 'A'}\n",
      "Name: Bob, Details: {'age': 21, 'grade': 'B'}\n",
      "Name: Charlie, Details: {'age': 19, 'grade': 'C'}\n",
      "\n",
      "--------Important----------\n",
      "Alice's Age: 20\n",
      "Student alread exists\n"
     ]
    }
   ],
   "source": [
    "student_records = {\n",
    "    'Alice': {'age': 20, 'grade': 'A'},\n",
    "    'Bob': {'age': 21, 'grade': 'B'},\n",
    "    'Charlie': {'age': 19, 'grade': 'C'},\n",
    "}\n",
    "\n",
    "print(\"Keys:\")\n",
    "for key in student_records:  # Iterating through keys\n",
    "    print(key)\n",
    "\n",
    "print(\"\\nValues:\")\n",
    "for value in student_records.values(): # Iterating through values\n",
    "    print(value)\n",
    "\n",
    "# Iterating through key-value pairs\n",
    "print(\"\\nKey-Value Pairs:\")\n",
    "for key, value in student_records.items():\n",
    "    print(f\"Name: {key}, Details: {value}\")\n",
    "\n",
    "print(\"\\n--------Important----------\")\n",
    "alice_age = student_records['Alice']['age']\n",
    "print(\"Alice's Age:\", alice_age)\n",
    "\n",
    "if 'Alice' in student_records:\n",
    "        print(\"Student alread exists\")\n"
   ]
  },
  {
   "cell_type": "code",
   "execution_count": 93,
   "id": "88167182-110d-4ca6-a4c9-da2f9338f5ca",
   "metadata": {},
   "outputs": [
    {
     "name": "stdin",
     "output_type": "stream",
     "text": [
      "Enter the Student name John\n",
      "Enter the 'Age' of the student 23\n",
      "Enter the 'Grade' of the student A\n"
     ]
    },
    {
     "name": "stdout",
     "output_type": "stream",
     "text": [
      "Alice\n",
      "Bob\n",
      "Charlie\n",
      "John\n"
     ]
    }
   ],
   "source": [
    "name = input(\"Enter the Student name\")\n",
    "\n",
    "if name in student_records:\n",
    "        print(\"This student alread exists\")\n",
    "        print(student_records[name])\n",
    "else:\n",
    "    age = int(input(\"Enter the 'Age' of the student\"))\n",
    "    grade = input (\"Enter the 'Grade' of the student\")\n",
    "\n",
    "    student_records[name] = {'age': age, 'grade': grade}\n",
    "\n",
    "    for i in student_records:\n",
    "        print(i)\n",
    "    \n",
    "    "
   ]
  },
  {
   "cell_type": "code",
   "execution_count": 105,
   "id": "231e4166-dcf5-49f6-8f3a-b030ba99f2c2",
   "metadata": {},
   "outputs": [
    {
     "name": "stdout",
     "output_type": "stream",
     "text": [
      "1\n",
      "2\n",
      "4\n",
      "8\n",
      "16\n",
      "32\n",
      "64\n"
     ]
    }
   ],
   "source": [
    "n = 100\n",
    "step = 1\n",
    "current = 1\n",
    "while current <= n:\n",
    "    print(current)\n",
    "    current *= 2\n",
    "    step *= 2"
   ]
  },
  {
   "cell_type": "code",
   "execution_count": null,
   "id": "1a8dd246-e8a3-46bb-96bd-0d3a3b77f6ae",
   "metadata": {},
   "outputs": [],
   "source": []
  }
 ],
 "metadata": {
  "kernelspec": {
   "display_name": "Python 3 (ipykernel)",
   "language": "python",
   "name": "python3"
  },
  "language_info": {
   "codemirror_mode": {
    "name": "ipython",
    "version": 3
   },
   "file_extension": ".py",
   "mimetype": "text/x-python",
   "name": "python",
   "nbconvert_exporter": "python",
   "pygments_lexer": "ipython3",
   "version": "3.12.2"
  }
 },
 "nbformat": 4,
 "nbformat_minor": 5
}
